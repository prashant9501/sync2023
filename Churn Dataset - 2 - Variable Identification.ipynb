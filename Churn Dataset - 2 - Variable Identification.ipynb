{
 "cells": [
  {
   "cell_type": "markdown",
   "metadata": {
    "colab_type": "text",
    "id": "e9mGxzDF5Cl9"
   },
   "source": [
    "# Exploratory Data Analysis"
   ]
  },
  {
   "cell_type": "markdown",
   "metadata": {
    "colab_type": "text",
    "id": "1FzYccB24irQ"
   },
   "source": [
    "## Reading Files into Python"
   ]
  },
  {
   "cell_type": "code",
   "execution_count": 1,
   "metadata": {
    "colab": {
     "background_save": true
    },
    "colab_type": "code",
    "id": "zDWO5w4jIiWL"
   },
   "outputs": [],
   "source": [
    "# importing libraries\n",
    "import pandas as pd"
   ]
  },
  {
   "cell_type": "code",
   "execution_count": null,
   "metadata": {
    "colab": {},
    "colab_type": "code",
    "id": "ONBsFLAfZfTu"
   },
   "outputs": [],
   "source": []
  },
  {
   "cell_type": "code",
   "execution_count": 2,
   "metadata": {
    "colab": {
     "background_save": true,
     "base_uri": "https://localhost:8080/",
     "height": 375
    },
    "colab_type": "code",
    "executionInfo": {
     "elapsed": 3836,
     "status": "error",
     "timestamp": 1586175370206,
     "user": {
      "displayName": "Ankit Choudhary",
      "photoUrl": "https://lh3.googleusercontent.com/a-/AOh14Gj4-GfamQGEVeD1iwAMYgqp1fFAU4PocEDfekHN=s64",
      "userId": "02500186615322573913"
     },
     "user_tz": -330
    },
    "id": "LFxGyLx3L5IS"
   },
   "outputs": [],
   "source": [
    "#importing data\n",
    "data = pd.read_csv('churn_prediction.csv')"
   ]
  },
  {
   "cell_type": "code",
   "execution_count": 3,
   "metadata": {
    "colab": {
     "background_save": true,
     "base_uri": "https://localhost:8080/",
     "height": 224
    },
    "colab_type": "code",
    "executionInfo": {
     "elapsed": 1970,
     "status": "ok",
     "timestamp": 1581673263914,
     "user": {
      "displayName": "Sharoon Saxena",
      "photoUrl": "https://lh3.googleusercontent.com/a-/AAuE7mA06b2KEfgpAIC1tQCip2ka2KqXrCY2GfWW9Fww=s64",
      "userId": "01167841530696023488"
     },
     "user_tz": -330
    },
    "id": "qPcIwT47NQX6"
   },
   "outputs": [
    {
     "data": {
      "text/html": [
       "<div>\n",
       "<style scoped>\n",
       "    .dataframe tbody tr th:only-of-type {\n",
       "        vertical-align: middle;\n",
       "    }\n",
       "\n",
       "    .dataframe tbody tr th {\n",
       "        vertical-align: top;\n",
       "    }\n",
       "\n",
       "    .dataframe thead th {\n",
       "        text-align: right;\n",
       "    }\n",
       "</style>\n",
       "<table border=\"1\" class=\"dataframe\">\n",
       "  <thead>\n",
       "    <tr style=\"text-align: right;\">\n",
       "      <th></th>\n",
       "      <th>customer_id</th>\n",
       "      <th>vintage</th>\n",
       "      <th>age</th>\n",
       "      <th>gender</th>\n",
       "      <th>dependents</th>\n",
       "      <th>occupation</th>\n",
       "      <th>city</th>\n",
       "      <th>customer_nw_category</th>\n",
       "      <th>branch_code</th>\n",
       "      <th>current_balance</th>\n",
       "      <th>...</th>\n",
       "      <th>average_monthly_balance_prevQ</th>\n",
       "      <th>average_monthly_balance_prevQ2</th>\n",
       "      <th>current_month_credit</th>\n",
       "      <th>previous_month_credit</th>\n",
       "      <th>current_month_debit</th>\n",
       "      <th>previous_month_debit</th>\n",
       "      <th>current_month_balance</th>\n",
       "      <th>previous_month_balance</th>\n",
       "      <th>last_transaction</th>\n",
       "      <th>churn</th>\n",
       "    </tr>\n",
       "  </thead>\n",
       "  <tbody>\n",
       "    <tr>\n",
       "      <th>0</th>\n",
       "      <td>1</td>\n",
       "      <td>2401</td>\n",
       "      <td>66</td>\n",
       "      <td>Male</td>\n",
       "      <td>0.0</td>\n",
       "      <td>self_employed</td>\n",
       "      <td>187.0</td>\n",
       "      <td>2</td>\n",
       "      <td>755</td>\n",
       "      <td>1458.71</td>\n",
       "      <td>...</td>\n",
       "      <td>1458.71</td>\n",
       "      <td>1449.07</td>\n",
       "      <td>0.20</td>\n",
       "      <td>0.20</td>\n",
       "      <td>0.20</td>\n",
       "      <td>0.20</td>\n",
       "      <td>1458.71</td>\n",
       "      <td>1458.71</td>\n",
       "      <td>2019-05-21</td>\n",
       "      <td>0.0</td>\n",
       "    </tr>\n",
       "    <tr>\n",
       "      <th>1</th>\n",
       "      <td>2</td>\n",
       "      <td>2648</td>\n",
       "      <td>35</td>\n",
       "      <td>Male</td>\n",
       "      <td>0.0</td>\n",
       "      <td>self_employed</td>\n",
       "      <td>NaN</td>\n",
       "      <td>2</td>\n",
       "      <td>3214</td>\n",
       "      <td>5390.37</td>\n",
       "      <td>...</td>\n",
       "      <td>7799.26</td>\n",
       "      <td>12419.41</td>\n",
       "      <td>0.56</td>\n",
       "      <td>0.56</td>\n",
       "      <td>5486.27</td>\n",
       "      <td>100.56</td>\n",
       "      <td>6496.78</td>\n",
       "      <td>8787.61</td>\n",
       "      <td>2019-11-01</td>\n",
       "      <td>0.0</td>\n",
       "    </tr>\n",
       "    <tr>\n",
       "      <th>2</th>\n",
       "      <td>4</td>\n",
       "      <td>2494</td>\n",
       "      <td>31</td>\n",
       "      <td>Male</td>\n",
       "      <td>0.0</td>\n",
       "      <td>salaried</td>\n",
       "      <td>146.0</td>\n",
       "      <td>2</td>\n",
       "      <td>41</td>\n",
       "      <td>3913.16</td>\n",
       "      <td>...</td>\n",
       "      <td>4910.17</td>\n",
       "      <td>2815.94</td>\n",
       "      <td>0.61</td>\n",
       "      <td>0.61</td>\n",
       "      <td>6046.73</td>\n",
       "      <td>259.23</td>\n",
       "      <td>5006.28</td>\n",
       "      <td>5070.14</td>\n",
       "      <td>NaT</td>\n",
       "      <td>0.0</td>\n",
       "    </tr>\n",
       "    <tr>\n",
       "      <th>3</th>\n",
       "      <td>5</td>\n",
       "      <td>2629</td>\n",
       "      <td>90</td>\n",
       "      <td>NaN</td>\n",
       "      <td>NaN</td>\n",
       "      <td>self_employed</td>\n",
       "      <td>1020.0</td>\n",
       "      <td>2</td>\n",
       "      <td>582</td>\n",
       "      <td>2291.91</td>\n",
       "      <td>...</td>\n",
       "      <td>2084.54</td>\n",
       "      <td>1006.54</td>\n",
       "      <td>0.47</td>\n",
       "      <td>0.47</td>\n",
       "      <td>0.47</td>\n",
       "      <td>2143.33</td>\n",
       "      <td>2291.91</td>\n",
       "      <td>1669.79</td>\n",
       "      <td>2019-08-06</td>\n",
       "      <td>1.0</td>\n",
       "    </tr>\n",
       "    <tr>\n",
       "      <th>4</th>\n",
       "      <td>6</td>\n",
       "      <td>1879</td>\n",
       "      <td>42</td>\n",
       "      <td>Male</td>\n",
       "      <td>2.0</td>\n",
       "      <td>self_employed</td>\n",
       "      <td>1494.0</td>\n",
       "      <td>3</td>\n",
       "      <td>388</td>\n",
       "      <td>927.72</td>\n",
       "      <td>...</td>\n",
       "      <td>1643.31</td>\n",
       "      <td>1871.12</td>\n",
       "      <td>0.33</td>\n",
       "      <td>714.61</td>\n",
       "      <td>588.62</td>\n",
       "      <td>1538.06</td>\n",
       "      <td>1157.15</td>\n",
       "      <td>1677.16</td>\n",
       "      <td>2019-11-03</td>\n",
       "      <td>1.0</td>\n",
       "    </tr>\n",
       "  </tbody>\n",
       "</table>\n",
       "<p>5 rows × 21 columns</p>\n",
       "</div>"
      ],
      "text/plain": [
       "   customer_id  vintage  age gender  dependents     occupation    city  \\\n",
       "0            1     2401   66   Male         0.0  self_employed   187.0   \n",
       "1            2     2648   35   Male         0.0  self_employed     NaN   \n",
       "2            4     2494   31   Male         0.0       salaried   146.0   \n",
       "3            5     2629   90    NaN         NaN  self_employed  1020.0   \n",
       "4            6     1879   42   Male         2.0  self_employed  1494.0   \n",
       "\n",
       "   customer_nw_category  branch_code  current_balance  ...  \\\n",
       "0                     2          755          1458.71  ...   \n",
       "1                     2         3214          5390.37  ...   \n",
       "2                     2           41          3913.16  ...   \n",
       "3                     2          582          2291.91  ...   \n",
       "4                     3          388           927.72  ...   \n",
       "\n",
       "   average_monthly_balance_prevQ  average_monthly_balance_prevQ2  \\\n",
       "0                        1458.71                         1449.07   \n",
       "1                        7799.26                        12419.41   \n",
       "2                        4910.17                         2815.94   \n",
       "3                        2084.54                         1006.54   \n",
       "4                        1643.31                         1871.12   \n",
       "\n",
       "   current_month_credit  previous_month_credit  current_month_debit  \\\n",
       "0                  0.20                   0.20                 0.20   \n",
       "1                  0.56                   0.56              5486.27   \n",
       "2                  0.61                   0.61              6046.73   \n",
       "3                  0.47                   0.47                 0.47   \n",
       "4                  0.33                 714.61               588.62   \n",
       "\n",
       "   previous_month_debit  current_month_balance  previous_month_balance  \\\n",
       "0                  0.20                1458.71                 1458.71   \n",
       "1                100.56                6496.78                 8787.61   \n",
       "2                259.23                5006.28                 5070.14   \n",
       "3               2143.33                2291.91                 1669.79   \n",
       "4               1538.06                1157.15                 1677.16   \n",
       "\n",
       "   last_transaction churn  \n",
       "0        2019-05-21   0.0  \n",
       "1        2019-11-01   0.0  \n",
       "2               NaT   0.0  \n",
       "3        2019-08-06   1.0  \n",
       "4        2019-11-03   1.0  \n",
       "\n",
       "[5 rows x 21 columns]"
      ]
     },
     "execution_count": 3,
     "metadata": {},
     "output_type": "execute_result"
    }
   ],
   "source": [
    "#first 5 instances using \"head()\" function\n",
    "data.head()"
   ]
  },
  {
   "cell_type": "code",
   "execution_count": 4,
   "metadata": {
    "colab": {
     "base_uri": "https://localhost:8080/",
     "height": 224
    },
    "colab_type": "code",
    "executionInfo": {
     "elapsed": 1961,
     "status": "ok",
     "timestamp": 1581673263915,
     "user": {
      "displayName": "Sharoon Saxena",
      "photoUrl": "https://lh3.googleusercontent.com/a-/AAuE7mA06b2KEfgpAIC1tQCip2ka2KqXrCY2GfWW9Fww=s64",
      "userId": "01167841530696023488"
     },
     "user_tz": -330
    },
    "id": "_G5CwMDl2B_8",
    "outputId": "a813c827-bc93-4d7c-c9de-11c91018bffc"
   },
   "outputs": [
    {
     "data": {
      "text/html": [
       "<div>\n",
       "<style scoped>\n",
       "    .dataframe tbody tr th:only-of-type {\n",
       "        vertical-align: middle;\n",
       "    }\n",
       "\n",
       "    .dataframe tbody tr th {\n",
       "        vertical-align: top;\n",
       "    }\n",
       "\n",
       "    .dataframe thead th {\n",
       "        text-align: right;\n",
       "    }\n",
       "</style>\n",
       "<table border=\"1\" class=\"dataframe\">\n",
       "  <thead>\n",
       "    <tr style=\"text-align: right;\">\n",
       "      <th></th>\n",
       "      <th>customer_id</th>\n",
       "      <th>vintage</th>\n",
       "      <th>age</th>\n",
       "      <th>gender</th>\n",
       "      <th>dependents</th>\n",
       "      <th>occupation</th>\n",
       "      <th>city</th>\n",
       "      <th>customer_nw_category</th>\n",
       "      <th>branch_code</th>\n",
       "      <th>current_balance</th>\n",
       "      <th>...</th>\n",
       "      <th>average_monthly_balance_prevQ</th>\n",
       "      <th>average_monthly_balance_prevQ2</th>\n",
       "      <th>current_month_credit</th>\n",
       "      <th>previous_month_credit</th>\n",
       "      <th>current_month_debit</th>\n",
       "      <th>previous_month_debit</th>\n",
       "      <th>current_month_balance</th>\n",
       "      <th>previous_month_balance</th>\n",
       "      <th>last_transaction</th>\n",
       "      <th>churn</th>\n",
       "    </tr>\n",
       "  </thead>\n",
       "  <tbody>\n",
       "    <tr>\n",
       "      <th>15925</th>\n",
       "      <td>16993</td>\n",
       "      <td>2500</td>\n",
       "      <td>64</td>\n",
       "      <td>Female</td>\n",
       "      <td>0.0</td>\n",
       "      <td>self_employed</td>\n",
       "      <td>409.0</td>\n",
       "      <td>3</td>\n",
       "      <td>934</td>\n",
       "      <td>309.64</td>\n",
       "      <td>...</td>\n",
       "      <td>1738.15</td>\n",
       "      <td>300.91</td>\n",
       "      <td>0.04</td>\n",
       "      <td>46961.44</td>\n",
       "      <td>5148.76</td>\n",
       "      <td>41642.90</td>\n",
       "      <td>2733.69</td>\n",
       "      <td>2340.96</td>\n",
       "      <td>2019-11-28</td>\n",
       "      <td>1.0</td>\n",
       "    </tr>\n",
       "    <tr>\n",
       "      <th>15926</th>\n",
       "      <td>16994</td>\n",
       "      <td>2470</td>\n",
       "      <td>44</td>\n",
       "      <td>Male</td>\n",
       "      <td>0.0</td>\n",
       "      <td>salaried</td>\n",
       "      <td>1020.0</td>\n",
       "      <td>2</td>\n",
       "      <td>15</td>\n",
       "      <td>1049.67</td>\n",
       "      <td>...</td>\n",
       "      <td>3622.00</td>\n",
       "      <td>6016.92</td>\n",
       "      <td>0.06</td>\n",
       "      <td>966.96</td>\n",
       "      <td>1428.63</td>\n",
       "      <td>5714.34</td>\n",
       "      <td>2100.30</td>\n",
       "      <td>1846.93</td>\n",
       "      <td>2019-12-01</td>\n",
       "      <td>1.0</td>\n",
       "    </tr>\n",
       "    <tr>\n",
       "      <th>15927</th>\n",
       "      <td>16995</td>\n",
       "      <td>2537</td>\n",
       "      <td>34</td>\n",
       "      <td>Female</td>\n",
       "      <td>1.0</td>\n",
       "      <td>self_employed</td>\n",
       "      <td>557.0</td>\n",
       "      <td>2</td>\n",
       "      <td>284</td>\n",
       "      <td>1106.86</td>\n",
       "      <td>...</td>\n",
       "      <td>2729.22</td>\n",
       "      <td>2170.80</td>\n",
       "      <td>8732.47</td>\n",
       "      <td>1714.39</td>\n",
       "      <td>8618.20</td>\n",
       "      <td>1142.96</td>\n",
       "      <td>5726.47</td>\n",
       "      <td>605.49</td>\n",
       "      <td>2019-12-07</td>\n",
       "      <td>0.0</td>\n",
       "    </tr>\n",
       "    <tr>\n",
       "      <th>15928</th>\n",
       "      <td>16996</td>\n",
       "      <td>2287</td>\n",
       "      <td>56</td>\n",
       "      <td>Female</td>\n",
       "      <td>0.0</td>\n",
       "      <td>self_employed</td>\n",
       "      <td>1540.0</td>\n",
       "      <td>2</td>\n",
       "      <td>670</td>\n",
       "      <td>2098.29</td>\n",
       "      <td>...</td>\n",
       "      <td>2122.82</td>\n",
       "      <td>2131.59</td>\n",
       "      <td>362.14</td>\n",
       "      <td>0.26</td>\n",
       "      <td>143.11</td>\n",
       "      <td>314.54</td>\n",
       "      <td>2132.49</td>\n",
       "      <td>2083.49</td>\n",
       "      <td>2019-12-07</td>\n",
       "      <td>0.0</td>\n",
       "    </tr>\n",
       "    <tr>\n",
       "      <th>15929</th>\n",
       "      <td>16997</td>\n",
       "      <td>2656</td>\n",
       "      <td>70</td>\n",
       "      <td>Male</td>\n",
       "      <td>0.0</td>\n",
       "      <td>self_employed</td>\n",
       "      <td>1096.0</td>\n",
       "      <td>2</td>\n",
       "      <td>134</td>\n",
       "      <td>18530.60</td>\n",
       "      <td>...</td>\n",
       "      <td>18199.41</td>\n",
       "      <td>17473.74</td>\n",
       "      <td>150.27</td>\n",
       "      <td>156.55</td>\n",
       "      <td>0.19</td>\n",
       "      <td>NaN</td>\n",
       "      <td>NaN</td>\n",
       "      <td>NaN</td>\n",
       "      <td>NaN</td>\n",
       "      <td>NaN</td>\n",
       "    </tr>\n",
       "  </tbody>\n",
       "</table>\n",
       "<p>5 rows × 21 columns</p>\n",
       "</div>"
      ],
      "text/plain": [
       "       customer_id  vintage  age  gender  dependents     occupation    city  \\\n",
       "15925        16993     2500   64  Female         0.0  self_employed   409.0   \n",
       "15926        16994     2470   44    Male         0.0       salaried  1020.0   \n",
       "15927        16995     2537   34  Female         1.0  self_employed   557.0   \n",
       "15928        16996     2287   56  Female         0.0  self_employed  1540.0   \n",
       "15929        16997     2656   70    Male         0.0  self_employed  1096.0   \n",
       "\n",
       "       customer_nw_category  branch_code  current_balance  ...  \\\n",
       "15925                     3          934           309.64  ...   \n",
       "15926                     2           15          1049.67  ...   \n",
       "15927                     2          284          1106.86  ...   \n",
       "15928                     2          670          2098.29  ...   \n",
       "15929                     2          134         18530.60  ...   \n",
       "\n",
       "       average_monthly_balance_prevQ  average_monthly_balance_prevQ2  \\\n",
       "15925                        1738.15                          300.91   \n",
       "15926                        3622.00                         6016.92   \n",
       "15927                        2729.22                         2170.80   \n",
       "15928                        2122.82                         2131.59   \n",
       "15929                       18199.41                        17473.74   \n",
       "\n",
       "       current_month_credit  previous_month_credit  current_month_debit  \\\n",
       "15925                  0.04               46961.44              5148.76   \n",
       "15926                  0.06                 966.96              1428.63   \n",
       "15927               8732.47                1714.39              8618.20   \n",
       "15928                362.14                   0.26               143.11   \n",
       "15929                150.27                 156.55                 0.19   \n",
       "\n",
       "       previous_month_debit  current_month_balance  previous_month_balance  \\\n",
       "15925              41642.90                2733.69                 2340.96   \n",
       "15926               5714.34                2100.30                 1846.93   \n",
       "15927               1142.96                5726.47                  605.49   \n",
       "15928                314.54                2132.49                 2083.49   \n",
       "15929                   NaN                    NaN                     NaN   \n",
       "\n",
       "       last_transaction churn  \n",
       "15925        2019-11-28   1.0  \n",
       "15926        2019-12-01   1.0  \n",
       "15927        2019-12-07   0.0  \n",
       "15928        2019-12-07   0.0  \n",
       "15929               NaN   NaN  \n",
       "\n",
       "[5 rows x 21 columns]"
      ]
     },
     "execution_count": 4,
     "metadata": {},
     "output_type": "execute_result"
    }
   ],
   "source": [
    "#last 5 instances using \"tail()\" function\n",
    "data.tail()"
   ]
  },
  {
   "cell_type": "code",
   "execution_count": 5,
   "metadata": {
    "colab": {
     "base_uri": "https://localhost:8080/",
     "height": 34
    },
    "colab_type": "code",
    "executionInfo": {
     "elapsed": 1954,
     "status": "ok",
     "timestamp": 1581673263916,
     "user": {
      "displayName": "Sharoon Saxena",
      "photoUrl": "https://lh3.googleusercontent.com/a-/AAuE7mA06b2KEfgpAIC1tQCip2ka2KqXrCY2GfWW9Fww=s64",
      "userId": "01167841530696023488"
     },
     "user_tz": -330
    },
    "id": "5Iy0lfDNNZ8U",
    "outputId": "fa15850e-08a0-41a5-f932-897b105083c8"
   },
   "outputs": [
    {
     "data": {
      "text/plain": [
       "(15930, 21)"
      ]
     },
     "execution_count": 5,
     "metadata": {},
     "output_type": "execute_result"
    }
   ],
   "source": [
    "#finding out the shape of the data using \"shape\" variable: Output (rows, columns)\n",
    "data.shape"
   ]
  },
  {
   "cell_type": "code",
   "execution_count": 6,
   "metadata": {
    "colab": {
     "base_uri": "https://localhost:8080/",
     "height": 153
    },
    "colab_type": "code",
    "executionInfo": {
     "elapsed": 1938,
     "status": "ok",
     "timestamp": 1581673263916,
     "user": {
      "displayName": "Sharoon Saxena",
      "photoUrl": "https://lh3.googleusercontent.com/a-/AAuE7mA06b2KEfgpAIC1tQCip2ka2KqXrCY2GfWW9Fww=s64",
      "userId": "01167841530696023488"
     },
     "user_tz": -330
    },
    "id": "b75gSeumN50y",
    "outputId": "79265ebb-24fd-4fa5-8314-555b5e86d546"
   },
   "outputs": [
    {
     "data": {
      "text/plain": [
       "Index(['customer_id', 'vintage', 'age', 'gender', 'dependents', 'occupation',\n",
       "       'city', 'customer_nw_category', 'branch_code', 'current_balance',\n",
       "       'previous_month_end_balance', 'average_monthly_balance_prevQ',\n",
       "       'average_monthly_balance_prevQ2', 'current_month_credit',\n",
       "       'previous_month_credit', 'current_month_debit', 'previous_month_debit',\n",
       "       'current_month_balance', 'previous_month_balance', 'last_transaction',\n",
       "       'churn'],\n",
       "      dtype='object')"
      ]
     },
     "execution_count": 6,
     "metadata": {},
     "output_type": "execute_result"
    }
   ],
   "source": [
    "#Printing all the columns present in data\n",
    "data.columns"
   ]
  },
  {
   "cell_type": "markdown",
   "metadata": {
    "colab_type": "text",
    "id": "qfZv5qTw4rm_"
   },
   "source": [
    "## Variable Identification and Typecasting"
   ]
  },
  {
   "cell_type": "code",
   "execution_count": 7,
   "metadata": {
    "colab": {
     "base_uri": "https://localhost:8080/",
     "height": 391
    },
    "colab_type": "code",
    "executionInfo": {
     "elapsed": 1932,
     "status": "ok",
     "timestamp": 1581673263917,
     "user": {
      "displayName": "Sharoon Saxena",
      "photoUrl": "https://lh3.googleusercontent.com/a-/AAuE7mA06b2KEfgpAIC1tQCip2ka2KqXrCY2GfWW9Fww=s64",
      "userId": "01167841530696023488"
     },
     "user_tz": -330
    },
    "id": "2_Us_uMgBnF_",
    "outputId": "b26830f2-89f9-4811-c20f-aaed056ebb7d"
   },
   "outputs": [
    {
     "data": {
      "text/plain": [
       "customer_id                         int64\n",
       "vintage                             int64\n",
       "age                                 int64\n",
       "gender                             object\n",
       "dependents                        float64\n",
       "occupation                         object\n",
       "city                              float64\n",
       "customer_nw_category                int64\n",
       "branch_code                         int64\n",
       "current_balance                   float64\n",
       "previous_month_end_balance        float64\n",
       "average_monthly_balance_prevQ     float64\n",
       "average_monthly_balance_prevQ2    float64\n",
       "current_month_credit              float64\n",
       "previous_month_credit             float64\n",
       "current_month_debit               float64\n",
       "previous_month_debit              float64\n",
       "current_month_balance             float64\n",
       "previous_month_balance            float64\n",
       "last_transaction                   object\n",
       "churn                             float64\n",
       "dtype: object"
      ]
     },
     "execution_count": 7,
     "metadata": {},
     "output_type": "execute_result"
    }
   ],
   "source": [
    "# A closer look at the data types present in the data\n",
    "data.dtypes"
   ]
  },
  {
   "cell_type": "markdown",
   "metadata": {
    "colab_type": "text",
    "id": "yAh9MfrhFlBE"
   },
   "source": [
    "There are a lot of variables visible at one, so let's narrow this down by looking **at one datatype at once**. We will start with int\n"
   ]
  },
  {
   "cell_type": "markdown",
   "metadata": {
    "colab_type": "text",
    "id": "LLXc4D7n9GIP"
   },
   "source": [
    "### Integer Data Type"
   ]
  },
  {
   "cell_type": "code",
   "execution_count": 8,
   "metadata": {
    "colab": {
     "base_uri": "https://localhost:8080/",
     "height": 136
    },
    "colab_type": "code",
    "executionInfo": {
     "elapsed": 1925,
     "status": "ok",
     "timestamp": 1581673263917,
     "user": {
      "displayName": "Sharoon Saxena",
      "photoUrl": "https://lh3.googleusercontent.com/a-/AAuE7mA06b2KEfgpAIC1tQCip2ka2KqXrCY2GfWW9Fww=s64",
      "userId": "01167841530696023488"
     },
     "user_tz": -330
    },
    "id": "79o3VLDo-UcA",
    "outputId": "c1a2cfaf-ed5a-4976-99f3-799bf786620a"
   },
   "outputs": [
    {
     "data": {
      "text/plain": [
       "customer_id             int64\n",
       "vintage                 int64\n",
       "age                     int64\n",
       "customer_nw_category    int64\n",
       "branch_code             int64\n",
       "dtype: object"
      ]
     },
     "execution_count": 8,
     "metadata": {},
     "output_type": "execute_result"
    }
   ],
   "source": [
    "# Identifying variables with integer datatype\n",
    "data.dtypes[data.dtypes == 'int64']"
   ]
  },
  {
   "cell_type": "markdown",
   "metadata": {
    "colab_type": "text",
    "id": "Yix8gagv-gwr"
   },
   "source": [
    "Summary:\n",
    "\n",
    "*    **Customer id** are a unique number assigned to customers. It is **Okay to consider this as an Integer**. This variable would not considered for our analysis.\n",
    "\n",
    "*    **branch code** again represents different branches, therefore it should be **convereted to category**.\n",
    "\n",
    "*    **Age** and **Vintage** are also numbers and hence we are okay with them as integers.\n",
    "\n",
    "*    **customer_networth_category** is supposed to be an ordinal category, **should be converted to category**.\n",
    "\n",
    "*    **churn** : 1 represents the churn and 0 represents not churn. However, there is no comparison between these two categories. This **needs to be converted to category datatype**.\n"
   ]
  },
  {
   "cell_type": "code",
   "execution_count": 9,
   "metadata": {},
   "outputs": [
    {
     "data": {
      "text/html": [
       "<div>\n",
       "<style scoped>\n",
       "    .dataframe tbody tr th:only-of-type {\n",
       "        vertical-align: middle;\n",
       "    }\n",
       "\n",
       "    .dataframe tbody tr th {\n",
       "        vertical-align: top;\n",
       "    }\n",
       "\n",
       "    .dataframe thead th {\n",
       "        text-align: right;\n",
       "    }\n",
       "</style>\n",
       "<table border=\"1\" class=\"dataframe\">\n",
       "  <thead>\n",
       "    <tr style=\"text-align: right;\">\n",
       "      <th></th>\n",
       "      <th>customer_id</th>\n",
       "      <th>vintage</th>\n",
       "      <th>age</th>\n",
       "      <th>dependents</th>\n",
       "      <th>city</th>\n",
       "      <th>customer_nw_category</th>\n",
       "      <th>branch_code</th>\n",
       "      <th>current_balance</th>\n",
       "      <th>previous_month_end_balance</th>\n",
       "      <th>average_monthly_balance_prevQ</th>\n",
       "      <th>average_monthly_balance_prevQ2</th>\n",
       "      <th>current_month_credit</th>\n",
       "      <th>previous_month_credit</th>\n",
       "      <th>current_month_debit</th>\n",
       "      <th>previous_month_debit</th>\n",
       "      <th>current_month_balance</th>\n",
       "      <th>previous_month_balance</th>\n",
       "      <th>churn</th>\n",
       "    </tr>\n",
       "  </thead>\n",
       "  <tbody>\n",
       "    <tr>\n",
       "      <th>count</th>\n",
       "      <td>15930.000000</td>\n",
       "      <td>15930.000000</td>\n",
       "      <td>15930.000000</td>\n",
       "      <td>14582.000000</td>\n",
       "      <td>15470.000000</td>\n",
       "      <td>15930.000000</td>\n",
       "      <td>15930.000000</td>\n",
       "      <td>1.593000e+04</td>\n",
       "      <td>1.593000e+04</td>\n",
       "      <td>1.593000e+04</td>\n",
       "      <td>1.593000e+04</td>\n",
       "      <td>1.593000e+04</td>\n",
       "      <td>1.593000e+04</td>\n",
       "      <td>1.593000e+04</td>\n",
       "      <td>1.592900e+04</td>\n",
       "      <td>1.592900e+04</td>\n",
       "      <td>1.592900e+04</td>\n",
       "      <td>15929.00000</td>\n",
       "    </tr>\n",
       "    <tr>\n",
       "      <th>mean</th>\n",
       "      <td>8498.085625</td>\n",
       "      <td>2392.437728</td>\n",
       "      <td>48.174576</td>\n",
       "      <td>0.356741</td>\n",
       "      <td>795.157207</td>\n",
       "      <td>2.221846</td>\n",
       "      <td>927.797928</td>\n",
       "      <td>7.271421e+03</td>\n",
       "      <td>7.386992e+03</td>\n",
       "      <td>7.433499e+03</td>\n",
       "      <td>7.183789e+03</td>\n",
       "      <td>3.279202e+03</td>\n",
       "      <td>3.419490e+03</td>\n",
       "      <td>3.498199e+03</td>\n",
       "      <td>3.466232e+03</td>\n",
       "      <td>7.362582e+03</td>\n",
       "      <td>7.438765e+03</td>\n",
       "      <td>0.18752</td>\n",
       "    </tr>\n",
       "    <tr>\n",
       "      <th>std</th>\n",
       "      <td>4910.076657</td>\n",
       "      <td>272.486481</td>\n",
       "      <td>17.865815</td>\n",
       "      <td>1.086172</td>\n",
       "      <td>430.395665</td>\n",
       "      <td>0.662057</td>\n",
       "      <td>937.402995</td>\n",
       "      <td>5.051191e+04</td>\n",
       "      <td>4.944242e+04</td>\n",
       "      <td>4.893540e+04</td>\n",
       "      <td>5.528574e+04</td>\n",
       "      <td>3.124726e+04</td>\n",
       "      <td>3.541268e+04</td>\n",
       "      <td>2.825728e+04</td>\n",
       "      <td>2.772081e+04</td>\n",
       "      <td>4.933807e+04</td>\n",
       "      <td>4.973615e+04</td>\n",
       "      <td>0.39034</td>\n",
       "    </tr>\n",
       "    <tr>\n",
       "      <th>min</th>\n",
       "      <td>1.000000</td>\n",
       "      <td>438.000000</td>\n",
       "      <td>1.000000</td>\n",
       "      <td>0.000000</td>\n",
       "      <td>0.000000</td>\n",
       "      <td>1.000000</td>\n",
       "      <td>1.000000</td>\n",
       "      <td>-5.503960e+03</td>\n",
       "      <td>-2.998640e+03</td>\n",
       "      <td>1.428690e+03</td>\n",
       "      <td>-1.650610e+04</td>\n",
       "      <td>1.000000e-02</td>\n",
       "      <td>1.000000e-02</td>\n",
       "      <td>1.000000e-02</td>\n",
       "      <td>1.000000e-02</td>\n",
       "      <td>-3.374180e+03</td>\n",
       "      <td>-3.060130e+03</td>\n",
       "      <td>0.00000</td>\n",
       "    </tr>\n",
       "    <tr>\n",
       "      <th>25%</th>\n",
       "      <td>4245.250000</td>\n",
       "      <td>2260.000000</td>\n",
       "      <td>35.000000</td>\n",
       "      <td>0.000000</td>\n",
       "      <td>409.000000</td>\n",
       "      <td>2.000000</td>\n",
       "      <td>176.000000</td>\n",
       "      <td>1.776387e+03</td>\n",
       "      <td>1.908638e+03</td>\n",
       "      <td>2.168155e+03</td>\n",
       "      <td>1.822055e+03</td>\n",
       "      <td>3.100000e-01</td>\n",
       "      <td>3.300000e-01</td>\n",
       "      <td>4.100000e-01</td>\n",
       "      <td>4.100000e-01</td>\n",
       "      <td>1.988660e+03</td>\n",
       "      <td>2.077040e+03</td>\n",
       "      <td>0.00000</td>\n",
       "    </tr>\n",
       "    <tr>\n",
       "      <th>50%</th>\n",
       "      <td>8485.500000</td>\n",
       "      <td>2454.000000</td>\n",
       "      <td>46.000000</td>\n",
       "      <td>0.000000</td>\n",
       "      <td>834.000000</td>\n",
       "      <td>2.000000</td>\n",
       "      <td>578.000000</td>\n",
       "      <td>3.276645e+03</td>\n",
       "      <td>3.381180e+03</td>\n",
       "      <td>3.520035e+03</td>\n",
       "      <td>3.373785e+03</td>\n",
       "      <td>6.100000e-01</td>\n",
       "      <td>6.400000e-01</td>\n",
       "      <td>9.440000e+01</td>\n",
       "      <td>1.124800e+02</td>\n",
       "      <td>3.445410e+03</td>\n",
       "      <td>3.450510e+03</td>\n",
       "      <td>0.00000</td>\n",
       "    </tr>\n",
       "    <tr>\n",
       "      <th>75%</th>\n",
       "      <td>12752.750000</td>\n",
       "      <td>2593.000000</td>\n",
       "      <td>60.000000</td>\n",
       "      <td>0.000000</td>\n",
       "      <td>1096.000000</td>\n",
       "      <td>3.000000</td>\n",
       "      <td>1437.000000</td>\n",
       "      <td>6.624458e+03</td>\n",
       "      <td>6.686012e+03</td>\n",
       "      <td>6.676240e+03</td>\n",
       "      <td>6.532695e+03</td>\n",
       "      <td>7.075825e+02</td>\n",
       "      <td>7.718425e+02</td>\n",
       "      <td>1.393230e+03</td>\n",
       "      <td>1.357730e+03</td>\n",
       "      <td>6.658490e+03</td>\n",
       "      <td>6.679810e+03</td>\n",
       "      <td>0.00000</td>\n",
       "    </tr>\n",
       "    <tr>\n",
       "      <th>max</th>\n",
       "      <td>16997.000000</td>\n",
       "      <td>2776.000000</td>\n",
       "      <td>90.000000</td>\n",
       "      <td>52.000000</td>\n",
       "      <td>1648.000000</td>\n",
       "      <td>3.000000</td>\n",
       "      <td>4753.000000</td>\n",
       "      <td>5.905904e+06</td>\n",
       "      <td>5.740439e+06</td>\n",
       "      <td>5.700290e+06</td>\n",
       "      <td>5.010170e+06</td>\n",
       "      <td>1.764286e+06</td>\n",
       "      <td>2.361808e+06</td>\n",
       "      <td>1.764286e+06</td>\n",
       "      <td>1.414168e+06</td>\n",
       "      <td>5.778185e+06</td>\n",
       "      <td>5.720144e+06</td>\n",
       "      <td>1.00000</td>\n",
       "    </tr>\n",
       "  </tbody>\n",
       "</table>\n",
       "</div>"
      ],
      "text/plain": [
       "        customer_id       vintage           age    dependents          city  \\\n",
       "count  15930.000000  15930.000000  15930.000000  14582.000000  15470.000000   \n",
       "mean    8498.085625   2392.437728     48.174576      0.356741    795.157207   \n",
       "std     4910.076657    272.486481     17.865815      1.086172    430.395665   \n",
       "min        1.000000    438.000000      1.000000      0.000000      0.000000   \n",
       "25%     4245.250000   2260.000000     35.000000      0.000000    409.000000   \n",
       "50%     8485.500000   2454.000000     46.000000      0.000000    834.000000   \n",
       "75%    12752.750000   2593.000000     60.000000      0.000000   1096.000000   \n",
       "max    16997.000000   2776.000000     90.000000     52.000000   1648.000000   \n",
       "\n",
       "       customer_nw_category   branch_code  current_balance  \\\n",
       "count          15930.000000  15930.000000     1.593000e+04   \n",
       "mean               2.221846    927.797928     7.271421e+03   \n",
       "std                0.662057    937.402995     5.051191e+04   \n",
       "min                1.000000      1.000000    -5.503960e+03   \n",
       "25%                2.000000    176.000000     1.776387e+03   \n",
       "50%                2.000000    578.000000     3.276645e+03   \n",
       "75%                3.000000   1437.000000     6.624458e+03   \n",
       "max                3.000000   4753.000000     5.905904e+06   \n",
       "\n",
       "       previous_month_end_balance  average_monthly_balance_prevQ  \\\n",
       "count                1.593000e+04                   1.593000e+04   \n",
       "mean                 7.386992e+03                   7.433499e+03   \n",
       "std                  4.944242e+04                   4.893540e+04   \n",
       "min                 -2.998640e+03                   1.428690e+03   \n",
       "25%                  1.908638e+03                   2.168155e+03   \n",
       "50%                  3.381180e+03                   3.520035e+03   \n",
       "75%                  6.686012e+03                   6.676240e+03   \n",
       "max                  5.740439e+06                   5.700290e+06   \n",
       "\n",
       "       average_monthly_balance_prevQ2  current_month_credit  \\\n",
       "count                    1.593000e+04          1.593000e+04   \n",
       "mean                     7.183789e+03          3.279202e+03   \n",
       "std                      5.528574e+04          3.124726e+04   \n",
       "min                     -1.650610e+04          1.000000e-02   \n",
       "25%                      1.822055e+03          3.100000e-01   \n",
       "50%                      3.373785e+03          6.100000e-01   \n",
       "75%                      6.532695e+03          7.075825e+02   \n",
       "max                      5.010170e+06          1.764286e+06   \n",
       "\n",
       "       previous_month_credit  current_month_debit  previous_month_debit  \\\n",
       "count           1.593000e+04         1.593000e+04          1.592900e+04   \n",
       "mean            3.419490e+03         3.498199e+03          3.466232e+03   \n",
       "std             3.541268e+04         2.825728e+04          2.772081e+04   \n",
       "min             1.000000e-02         1.000000e-02          1.000000e-02   \n",
       "25%             3.300000e-01         4.100000e-01          4.100000e-01   \n",
       "50%             6.400000e-01         9.440000e+01          1.124800e+02   \n",
       "75%             7.718425e+02         1.393230e+03          1.357730e+03   \n",
       "max             2.361808e+06         1.764286e+06          1.414168e+06   \n",
       "\n",
       "       current_month_balance  previous_month_balance        churn  \n",
       "count           1.592900e+04            1.592900e+04  15929.00000  \n",
       "mean            7.362582e+03            7.438765e+03      0.18752  \n",
       "std             4.933807e+04            4.973615e+04      0.39034  \n",
       "min            -3.374180e+03           -3.060130e+03      0.00000  \n",
       "25%             1.988660e+03            2.077040e+03      0.00000  \n",
       "50%             3.445410e+03            3.450510e+03      0.00000  \n",
       "75%             6.658490e+03            6.679810e+03      0.00000  \n",
       "max             5.778185e+06            5.720144e+06      1.00000  "
      ]
     },
     "execution_count": 9,
     "metadata": {},
     "output_type": "execute_result"
    }
   ],
   "source": [
    "data.describe()"
   ]
  },
  {
   "cell_type": "code",
   "execution_count": null,
   "metadata": {},
   "outputs": [],
   "source": []
  },
  {
   "cell_type": "code",
   "execution_count": 10,
   "metadata": {
    "colab": {
     "base_uri": "https://localhost:8080/",
     "height": 85
    },
    "colab_type": "code",
    "executionInfo": {
     "elapsed": 1918,
     "status": "ok",
     "timestamp": 1581673263918,
     "user": {
      "displayName": "Sharoon Saxena",
      "photoUrl": "https://lh3.googleusercontent.com/a-/AAuE7mA06b2KEfgpAIC1tQCip2ka2KqXrCY2GfWW9Fww=s64",
      "userId": "01167841530696023488"
     },
     "user_tz": -330
    },
    "id": "zjim6-_NDUOe",
    "outputId": "05862870-7716-460e-fd09-f662153fad29"
   },
   "outputs": [
    {
     "data": {
      "text/plain": [
       "customer_id    int64\n",
       "vintage        int64\n",
       "age            int64\n",
       "dtype: object"
      ]
     },
     "execution_count": 10,
     "metadata": {},
     "output_type": "execute_result"
    }
   ],
   "source": [
    "# converting churn to category\n",
    "data['churn'] = data['churn'].astype('category')\n",
    "data['branch_code'] = data['branch_code'].astype('category')\n",
    "data['customer_nw_category'] = data['customer_nw_category'].astype('category')\n",
    "data.dtypes[data.dtypes == 'int64']"
   ]
  },
  {
   "cell_type": "code",
   "execution_count": 11,
   "metadata": {},
   "outputs": [
    {
     "data": {
      "text/html": [
       "<div>\n",
       "<style scoped>\n",
       "    .dataframe tbody tr th:only-of-type {\n",
       "        vertical-align: middle;\n",
       "    }\n",
       "\n",
       "    .dataframe tbody tr th {\n",
       "        vertical-align: top;\n",
       "    }\n",
       "\n",
       "    .dataframe thead th {\n",
       "        text-align: right;\n",
       "    }\n",
       "</style>\n",
       "<table border=\"1\" class=\"dataframe\">\n",
       "  <thead>\n",
       "    <tr style=\"text-align: right;\">\n",
       "      <th></th>\n",
       "      <th>customer_id</th>\n",
       "      <th>vintage</th>\n",
       "      <th>age</th>\n",
       "      <th>dependents</th>\n",
       "      <th>city</th>\n",
       "      <th>current_balance</th>\n",
       "      <th>previous_month_end_balance</th>\n",
       "      <th>average_monthly_balance_prevQ</th>\n",
       "      <th>average_monthly_balance_prevQ2</th>\n",
       "      <th>current_month_credit</th>\n",
       "      <th>previous_month_credit</th>\n",
       "      <th>current_month_debit</th>\n",
       "      <th>previous_month_debit</th>\n",
       "      <th>current_month_balance</th>\n",
       "      <th>previous_month_balance</th>\n",
       "    </tr>\n",
       "  </thead>\n",
       "  <tbody>\n",
       "    <tr>\n",
       "      <th>count</th>\n",
       "      <td>15930.000000</td>\n",
       "      <td>15930.000000</td>\n",
       "      <td>15930.000000</td>\n",
       "      <td>14582.000000</td>\n",
       "      <td>15470.000000</td>\n",
       "      <td>1.593000e+04</td>\n",
       "      <td>1.593000e+04</td>\n",
       "      <td>1.593000e+04</td>\n",
       "      <td>1.593000e+04</td>\n",
       "      <td>1.593000e+04</td>\n",
       "      <td>1.593000e+04</td>\n",
       "      <td>1.593000e+04</td>\n",
       "      <td>1.592900e+04</td>\n",
       "      <td>1.592900e+04</td>\n",
       "      <td>1.592900e+04</td>\n",
       "    </tr>\n",
       "    <tr>\n",
       "      <th>mean</th>\n",
       "      <td>8498.085625</td>\n",
       "      <td>2392.437728</td>\n",
       "      <td>48.174576</td>\n",
       "      <td>0.356741</td>\n",
       "      <td>795.157207</td>\n",
       "      <td>7.271421e+03</td>\n",
       "      <td>7.386992e+03</td>\n",
       "      <td>7.433499e+03</td>\n",
       "      <td>7.183789e+03</td>\n",
       "      <td>3.279202e+03</td>\n",
       "      <td>3.419490e+03</td>\n",
       "      <td>3.498199e+03</td>\n",
       "      <td>3.466232e+03</td>\n",
       "      <td>7.362582e+03</td>\n",
       "      <td>7.438765e+03</td>\n",
       "    </tr>\n",
       "    <tr>\n",
       "      <th>std</th>\n",
       "      <td>4910.076657</td>\n",
       "      <td>272.486481</td>\n",
       "      <td>17.865815</td>\n",
       "      <td>1.086172</td>\n",
       "      <td>430.395665</td>\n",
       "      <td>5.051191e+04</td>\n",
       "      <td>4.944242e+04</td>\n",
       "      <td>4.893540e+04</td>\n",
       "      <td>5.528574e+04</td>\n",
       "      <td>3.124726e+04</td>\n",
       "      <td>3.541268e+04</td>\n",
       "      <td>2.825728e+04</td>\n",
       "      <td>2.772081e+04</td>\n",
       "      <td>4.933807e+04</td>\n",
       "      <td>4.973615e+04</td>\n",
       "    </tr>\n",
       "    <tr>\n",
       "      <th>min</th>\n",
       "      <td>1.000000</td>\n",
       "      <td>438.000000</td>\n",
       "      <td>1.000000</td>\n",
       "      <td>0.000000</td>\n",
       "      <td>0.000000</td>\n",
       "      <td>-5.503960e+03</td>\n",
       "      <td>-2.998640e+03</td>\n",
       "      <td>1.428690e+03</td>\n",
       "      <td>-1.650610e+04</td>\n",
       "      <td>1.000000e-02</td>\n",
       "      <td>1.000000e-02</td>\n",
       "      <td>1.000000e-02</td>\n",
       "      <td>1.000000e-02</td>\n",
       "      <td>-3.374180e+03</td>\n",
       "      <td>-3.060130e+03</td>\n",
       "    </tr>\n",
       "    <tr>\n",
       "      <th>25%</th>\n",
       "      <td>4245.250000</td>\n",
       "      <td>2260.000000</td>\n",
       "      <td>35.000000</td>\n",
       "      <td>0.000000</td>\n",
       "      <td>409.000000</td>\n",
       "      <td>1.776387e+03</td>\n",
       "      <td>1.908638e+03</td>\n",
       "      <td>2.168155e+03</td>\n",
       "      <td>1.822055e+03</td>\n",
       "      <td>3.100000e-01</td>\n",
       "      <td>3.300000e-01</td>\n",
       "      <td>4.100000e-01</td>\n",
       "      <td>4.100000e-01</td>\n",
       "      <td>1.988660e+03</td>\n",
       "      <td>2.077040e+03</td>\n",
       "    </tr>\n",
       "    <tr>\n",
       "      <th>50%</th>\n",
       "      <td>8485.500000</td>\n",
       "      <td>2454.000000</td>\n",
       "      <td>46.000000</td>\n",
       "      <td>0.000000</td>\n",
       "      <td>834.000000</td>\n",
       "      <td>3.276645e+03</td>\n",
       "      <td>3.381180e+03</td>\n",
       "      <td>3.520035e+03</td>\n",
       "      <td>3.373785e+03</td>\n",
       "      <td>6.100000e-01</td>\n",
       "      <td>6.400000e-01</td>\n",
       "      <td>9.440000e+01</td>\n",
       "      <td>1.124800e+02</td>\n",
       "      <td>3.445410e+03</td>\n",
       "      <td>3.450510e+03</td>\n",
       "    </tr>\n",
       "    <tr>\n",
       "      <th>75%</th>\n",
       "      <td>12752.750000</td>\n",
       "      <td>2593.000000</td>\n",
       "      <td>60.000000</td>\n",
       "      <td>0.000000</td>\n",
       "      <td>1096.000000</td>\n",
       "      <td>6.624458e+03</td>\n",
       "      <td>6.686012e+03</td>\n",
       "      <td>6.676240e+03</td>\n",
       "      <td>6.532695e+03</td>\n",
       "      <td>7.075825e+02</td>\n",
       "      <td>7.718425e+02</td>\n",
       "      <td>1.393230e+03</td>\n",
       "      <td>1.357730e+03</td>\n",
       "      <td>6.658490e+03</td>\n",
       "      <td>6.679810e+03</td>\n",
       "    </tr>\n",
       "    <tr>\n",
       "      <th>max</th>\n",
       "      <td>16997.000000</td>\n",
       "      <td>2776.000000</td>\n",
       "      <td>90.000000</td>\n",
       "      <td>52.000000</td>\n",
       "      <td>1648.000000</td>\n",
       "      <td>5.905904e+06</td>\n",
       "      <td>5.740439e+06</td>\n",
       "      <td>5.700290e+06</td>\n",
       "      <td>5.010170e+06</td>\n",
       "      <td>1.764286e+06</td>\n",
       "      <td>2.361808e+06</td>\n",
       "      <td>1.764286e+06</td>\n",
       "      <td>1.414168e+06</td>\n",
       "      <td>5.778185e+06</td>\n",
       "      <td>5.720144e+06</td>\n",
       "    </tr>\n",
       "  </tbody>\n",
       "</table>\n",
       "</div>"
      ],
      "text/plain": [
       "        customer_id       vintage           age    dependents          city  \\\n",
       "count  15930.000000  15930.000000  15930.000000  14582.000000  15470.000000   \n",
       "mean    8498.085625   2392.437728     48.174576      0.356741    795.157207   \n",
       "std     4910.076657    272.486481     17.865815      1.086172    430.395665   \n",
       "min        1.000000    438.000000      1.000000      0.000000      0.000000   \n",
       "25%     4245.250000   2260.000000     35.000000      0.000000    409.000000   \n",
       "50%     8485.500000   2454.000000     46.000000      0.000000    834.000000   \n",
       "75%    12752.750000   2593.000000     60.000000      0.000000   1096.000000   \n",
       "max    16997.000000   2776.000000     90.000000     52.000000   1648.000000   \n",
       "\n",
       "       current_balance  previous_month_end_balance  \\\n",
       "count     1.593000e+04                1.593000e+04   \n",
       "mean      7.271421e+03                7.386992e+03   \n",
       "std       5.051191e+04                4.944242e+04   \n",
       "min      -5.503960e+03               -2.998640e+03   \n",
       "25%       1.776387e+03                1.908638e+03   \n",
       "50%       3.276645e+03                3.381180e+03   \n",
       "75%       6.624458e+03                6.686012e+03   \n",
       "max       5.905904e+06                5.740439e+06   \n",
       "\n",
       "       average_monthly_balance_prevQ  average_monthly_balance_prevQ2  \\\n",
       "count                   1.593000e+04                    1.593000e+04   \n",
       "mean                    7.433499e+03                    7.183789e+03   \n",
       "std                     4.893540e+04                    5.528574e+04   \n",
       "min                     1.428690e+03                   -1.650610e+04   \n",
       "25%                     2.168155e+03                    1.822055e+03   \n",
       "50%                     3.520035e+03                    3.373785e+03   \n",
       "75%                     6.676240e+03                    6.532695e+03   \n",
       "max                     5.700290e+06                    5.010170e+06   \n",
       "\n",
       "       current_month_credit  previous_month_credit  current_month_debit  \\\n",
       "count          1.593000e+04           1.593000e+04         1.593000e+04   \n",
       "mean           3.279202e+03           3.419490e+03         3.498199e+03   \n",
       "std            3.124726e+04           3.541268e+04         2.825728e+04   \n",
       "min            1.000000e-02           1.000000e-02         1.000000e-02   \n",
       "25%            3.100000e-01           3.300000e-01         4.100000e-01   \n",
       "50%            6.100000e-01           6.400000e-01         9.440000e+01   \n",
       "75%            7.075825e+02           7.718425e+02         1.393230e+03   \n",
       "max            1.764286e+06           2.361808e+06         1.764286e+06   \n",
       "\n",
       "       previous_month_debit  current_month_balance  previous_month_balance  \n",
       "count          1.592900e+04           1.592900e+04            1.592900e+04  \n",
       "mean           3.466232e+03           7.362582e+03            7.438765e+03  \n",
       "std            2.772081e+04           4.933807e+04            4.973615e+04  \n",
       "min            1.000000e-02          -3.374180e+03           -3.060130e+03  \n",
       "25%            4.100000e-01           1.988660e+03            2.077040e+03  \n",
       "50%            1.124800e+02           3.445410e+03            3.450510e+03  \n",
       "75%            1.357730e+03           6.658490e+03            6.679810e+03  \n",
       "max            1.414168e+06           5.778185e+06            5.720144e+06  "
      ]
     },
     "execution_count": 11,
     "metadata": {},
     "output_type": "execute_result"
    }
   ],
   "source": [
    "data.describe()"
   ]
  },
  {
   "cell_type": "markdown",
   "metadata": {
    "colab_type": "text",
    "id": "LRSHTCVY9MSl"
   },
   "source": [
    "### Float Data Type"
   ]
  },
  {
   "cell_type": "code",
   "execution_count": 12,
   "metadata": {
    "colab": {
     "base_uri": "https://localhost:8080/",
     "height": 238
    },
    "colab_type": "code",
    "executionInfo": {
     "elapsed": 1912,
     "status": "ok",
     "timestamp": 1581673263921,
     "user": {
      "displayName": "Sharoon Saxena",
      "photoUrl": "https://lh3.googleusercontent.com/a-/AAuE7mA06b2KEfgpAIC1tQCip2ka2KqXrCY2GfWW9Fww=s64",
      "userId": "01167841530696023488"
     },
     "user_tz": -330
    },
    "id": "W4teLfjkzWbg",
    "outputId": "b791debe-6775-415b-9f9b-ce66f5bebc57"
   },
   "outputs": [
    {
     "data": {
      "text/plain": [
       "dependents                        float64\n",
       "city                              float64\n",
       "current_balance                   float64\n",
       "previous_month_end_balance        float64\n",
       "average_monthly_balance_prevQ     float64\n",
       "average_monthly_balance_prevQ2    float64\n",
       "current_month_credit              float64\n",
       "previous_month_credit             float64\n",
       "current_month_debit               float64\n",
       "previous_month_debit              float64\n",
       "current_month_balance             float64\n",
       "previous_month_balance            float64\n",
       "dtype: object"
      ]
     },
     "execution_count": 12,
     "metadata": {},
     "output_type": "execute_result"
    }
   ],
   "source": [
    "# Identifying variables with float datatype\n",
    "data.dtypes[data.dtypes == 'float64']"
   ]
  },
  {
   "cell_type": "markdown",
   "metadata": {
    "colab_type": "text",
    "id": "Z-97-KADzlCu"
   },
   "source": [
    "Summary:\n",
    "\n",
    "*    **dependents** is expected to be a whole number. **Should be changed to integer type**\n",
    "\n",
    "*    **city** variable is also a unique code of a city represented by some interger number. **Should be converted to Category type**\n",
    "\n",
    "*    Rest of the variables like **credit, balance and debit** are best represented by the float variables."
   ]
  },
  {
   "cell_type": "code",
   "execution_count": 13,
   "metadata": {
    "colab": {
     "base_uri": "https://localhost:8080/",
     "height": 68
    },
    "colab_type": "code",
    "executionInfo": {
     "elapsed": 1905,
     "status": "ok",
     "timestamp": 1581673263922,
     "user": {
      "displayName": "Sharoon Saxena",
      "photoUrl": "https://lh3.googleusercontent.com/a-/AAuE7mA06b2KEfgpAIC1tQCip2ka2KqXrCY2GfWW9Fww=s64",
      "userId": "01167841530696023488"
     },
     "user_tz": -330
    },
    "id": "ElAZeyTjWIh2",
    "outputId": "498f5c39-82b4-4bb0-83bb-bd4dfb8390e6"
   },
   "outputs": [
    {
     "data": {
      "text/plain": [
       "dependents       Int64\n",
       "city          category\n",
       "dtype: object"
      ]
     },
     "execution_count": 13,
     "metadata": {},
     "output_type": "execute_result"
    }
   ],
   "source": [
    "# converting \"dependents\" and \"city\" to their respective types\n",
    "data['dependents'] = data['dependents'].astype('Int64')\n",
    "data['city'] = data['city'].astype('category')\n",
    "\n",
    "# checking\n",
    "data[['dependents','city']].dtypes"
   ]
  },
  {
   "cell_type": "markdown",
   "metadata": {
    "colab_type": "text",
    "id": "CkGScFSc_8Rl"
   },
   "source": [
    "### Object Data Type"
   ]
  },
  {
   "cell_type": "code",
   "execution_count": 14,
   "metadata": {
    "colab": {
     "base_uri": "https://localhost:8080/",
     "height": 391
    },
    "colab_type": "code",
    "executionInfo": {
     "elapsed": 1896,
     "status": "ok",
     "timestamp": 1581673263923,
     "user": {
      "displayName": "Sharoon Saxena",
      "photoUrl": "https://lh3.googleusercontent.com/a-/AAuE7mA06b2KEfgpAIC1tQCip2ka2KqXrCY2GfWW9Fww=s64",
      "userId": "01167841530696023488"
     },
     "user_tz": -330
    },
    "id": "_ou3CLuI9DwS",
    "outputId": "4a7a1582-5280-48bf-d1cd-299f8a3c18f3"
   },
   "outputs": [
    {
     "data": {
      "text/plain": [
       "customer_id                          int64\n",
       "vintage                              int64\n",
       "age                                  int64\n",
       "gender                              object\n",
       "dependents                           Int64\n",
       "occupation                          object\n",
       "city                              category\n",
       "customer_nw_category              category\n",
       "branch_code                       category\n",
       "current_balance                    float64\n",
       "previous_month_end_balance         float64\n",
       "average_monthly_balance_prevQ      float64\n",
       "average_monthly_balance_prevQ2     float64\n",
       "current_month_credit               float64\n",
       "previous_month_credit              float64\n",
       "current_month_debit                float64\n",
       "previous_month_debit               float64\n",
       "current_month_balance              float64\n",
       "previous_month_balance             float64\n",
       "last_transaction                    object\n",
       "churn                             category\n",
       "dtype: object"
      ]
     },
     "execution_count": 14,
     "metadata": {},
     "output_type": "execute_result"
    }
   ],
   "source": [
    "data.dtypes"
   ]
  },
  {
   "cell_type": "markdown",
   "metadata": {
    "colab_type": "text",
    "id": "fzLUCLSU_Hmk"
   },
   "source": [
    "*    **variables like 'gender', 'occupation' and 'last_transaction' are of type object**. This means that **Pandas was not able to recognise the datatype** of these three variables."
   ]
  },
  {
   "cell_type": "code",
   "execution_count": 15,
   "metadata": {
    "colab": {
     "base_uri": "https://localhost:8080/",
     "height": 266
    },
    "colab_type": "code",
    "executionInfo": {
     "elapsed": 1888,
     "status": "ok",
     "timestamp": 1581673263923,
     "user": {
      "displayName": "Sharoon Saxena",
      "photoUrl": "https://lh3.googleusercontent.com/a-/AAuE7mA06b2KEfgpAIC1tQCip2ka2KqXrCY2GfWW9Fww=s64",
      "userId": "01167841530696023488"
     },
     "user_tz": -330
    },
    "id": "fjOBy8qRaYfl",
    "outputId": "3d673982-852d-40a8-b92b-b0b3533f0a5f"
   },
   "outputs": [
    {
     "data": {
      "text/html": [
       "<div>\n",
       "<style scoped>\n",
       "    .dataframe tbody tr th:only-of-type {\n",
       "        vertical-align: middle;\n",
       "    }\n",
       "\n",
       "    .dataframe tbody tr th {\n",
       "        vertical-align: top;\n",
       "    }\n",
       "\n",
       "    .dataframe thead th {\n",
       "        text-align: right;\n",
       "    }\n",
       "</style>\n",
       "<table border=\"1\" class=\"dataframe\">\n",
       "  <thead>\n",
       "    <tr style=\"text-align: right;\">\n",
       "      <th></th>\n",
       "      <th>gender</th>\n",
       "      <th>occupation</th>\n",
       "      <th>last_transaction</th>\n",
       "    </tr>\n",
       "  </thead>\n",
       "  <tbody>\n",
       "    <tr>\n",
       "      <th>0</th>\n",
       "      <td>Male</td>\n",
       "      <td>self_employed</td>\n",
       "      <td>2019-05-21</td>\n",
       "    </tr>\n",
       "    <tr>\n",
       "      <th>1</th>\n",
       "      <td>Male</td>\n",
       "      <td>self_employed</td>\n",
       "      <td>2019-11-01</td>\n",
       "    </tr>\n",
       "    <tr>\n",
       "      <th>2</th>\n",
       "      <td>Male</td>\n",
       "      <td>salaried</td>\n",
       "      <td>NaT</td>\n",
       "    </tr>\n",
       "    <tr>\n",
       "      <th>3</th>\n",
       "      <td>NaN</td>\n",
       "      <td>self_employed</td>\n",
       "      <td>2019-08-06</td>\n",
       "    </tr>\n",
       "    <tr>\n",
       "      <th>4</th>\n",
       "      <td>Male</td>\n",
       "      <td>self_employed</td>\n",
       "      <td>2019-11-03</td>\n",
       "    </tr>\n",
       "    <tr>\n",
       "      <th>5</th>\n",
       "      <td>Female</td>\n",
       "      <td>self_employed</td>\n",
       "      <td>2019-11-01</td>\n",
       "    </tr>\n",
       "    <tr>\n",
       "      <th>6</th>\n",
       "      <td>Male</td>\n",
       "      <td>retired</td>\n",
       "      <td>2019-09-24</td>\n",
       "    </tr>\n",
       "  </tbody>\n",
       "</table>\n",
       "</div>"
      ],
      "text/plain": [
       "   gender     occupation last_transaction\n",
       "0    Male  self_employed       2019-05-21\n",
       "1    Male  self_employed       2019-11-01\n",
       "2    Male       salaried              NaT\n",
       "3     NaN  self_employed       2019-08-06\n",
       "4    Male  self_employed       2019-11-03\n",
       "5  Female  self_employed       2019-11-01\n",
       "6    Male        retired       2019-09-24"
      ]
     },
     "execution_count": 15,
     "metadata": {},
     "output_type": "execute_result"
    }
   ],
   "source": [
    "# Manually checking object types\n",
    "data[['gender','occupation','last_transaction']].head(7)"
   ]
  },
  {
   "cell_type": "markdown",
   "metadata": {
    "colab_type": "text",
    "id": "8KOeDE6Bdlo4"
   },
   "source": [
    "*    **gender** and **occupation** variables **belong to categorical data types**.\n",
    "*    **last_transaction** should be a  **datetime variable**."
   ]
  },
  {
   "cell_type": "code",
   "execution_count": 16,
   "metadata": {
    "colab": {
     "base_uri": "https://localhost:8080/",
     "height": 68
    },
    "colab_type": "code",
    "executionInfo": {
     "elapsed": 1883,
     "status": "ok",
     "timestamp": 1581673263924,
     "user": {
      "displayName": "Sharoon Saxena",
      "photoUrl": "https://lh3.googleusercontent.com/a-/AAuE7mA06b2KEfgpAIC1tQCip2ka2KqXrCY2GfWW9Fww=s64",
      "userId": "01167841530696023488"
     },
     "user_tz": -330
    },
    "id": "WweHyTD1B-Hi",
    "outputId": "f8d58b74-f2dd-4d5f-d06b-785b1baea704"
   },
   "outputs": [
    {
     "data": {
      "text/plain": [
       "gender        category\n",
       "occupation    category\n",
       "dtype: object"
      ]
     },
     "execution_count": 16,
     "metadata": {},
     "output_type": "execute_result"
    }
   ],
   "source": [
    "# typecasting \"gender\" and \"occupation\" to category type\n",
    "data['gender'] = data['gender'].astype('category')\n",
    "data['occupation'] = data['occupation'].astype('category')\n",
    "\n",
    "# checking\n",
    "data[['gender','occupation']].dtypes"
   ]
  },
  {
   "cell_type": "markdown",
   "metadata": {
    "colab_type": "text",
    "id": "mL6utzZVCXzZ"
   },
   "source": [
    "### datetime Data Type"
   ]
  },
  {
   "cell_type": "code",
   "execution_count": 17,
   "metadata": {
    "colab": {},
    "colab_type": "code",
    "id": "rUW8X9y0cls5"
   },
   "outputs": [],
   "source": [
    "# creating an instance(date) of DatetimeIndex class using \"last_transaction\"\n",
    "data['last_transaction'] = pd.to_datetime(data['last_transaction'])"
   ]
  },
  {
   "cell_type": "code",
   "execution_count": 18,
   "metadata": {},
   "outputs": [
    {
     "data": {
      "text/plain": [
       "customer_id                                int64\n",
       "vintage                                    int64\n",
       "age                                        int64\n",
       "gender                                  category\n",
       "dependents                                 Int64\n",
       "occupation                              category\n",
       "city                                    category\n",
       "customer_nw_category                    category\n",
       "branch_code                             category\n",
       "current_balance                          float64\n",
       "previous_month_end_balance               float64\n",
       "average_monthly_balance_prevQ            float64\n",
       "average_monthly_balance_prevQ2           float64\n",
       "current_month_credit                     float64\n",
       "previous_month_credit                    float64\n",
       "current_month_debit                      float64\n",
       "previous_month_debit                     float64\n",
       "current_month_balance                    float64\n",
       "previous_month_balance                   float64\n",
       "last_transaction                  datetime64[ns]\n",
       "churn                                   category\n",
       "dtype: object"
      ]
     },
     "execution_count": 18,
     "metadata": {},
     "output_type": "execute_result"
    }
   ],
   "source": [
    "data.dtypes"
   ]
  },
  {
   "cell_type": "code",
   "execution_count": 19,
   "metadata": {
    "colab": {},
    "colab_type": "code",
    "id": "BiDzZxipexc8"
   },
   "outputs": [],
   "source": [
    "# extracting new columns from \"last_transaction\"\n",
    "\n",
    "# last day of year when transaction was done\n",
    "data['doy_ls_tran'] = data.last_transaction.dt.dayofyear\n",
    "\n",
    "# week of year when last transaction was done\n",
    "data['woy_ls_tran'] = data.last_transaction.dt.isocalendar().week\n",
    "\n",
    "# month of year when last transaction was done\n",
    "data['moy_ls_tran'] = data.last_transaction.dt.month\n",
    "\n",
    "# day of week when last transaction was done\n",
    "data['dow_ls_tran'] = data.last_transaction.dt.dayofweek"
   ]
  },
  {
   "cell_type": "code",
   "execution_count": 20,
   "metadata": {
    "colab": {
     "base_uri": "https://localhost:8080/",
     "height": 204
    },
    "colab_type": "code",
    "executionInfo": {
     "elapsed": 1845,
     "status": "ok",
     "timestamp": 1581673263928,
     "user": {
      "displayName": "Sharoon Saxena",
      "photoUrl": "https://lh3.googleusercontent.com/a-/AAuE7mA06b2KEfgpAIC1tQCip2ka2KqXrCY2GfWW9Fww=s64",
      "userId": "01167841530696023488"
     },
     "user_tz": -330
    },
    "id": "HX959YsKk0ie",
    "outputId": "dc9045c6-036e-4c17-a148-da3d317a50cd"
   },
   "outputs": [
    {
     "data": {
      "text/html": [
       "<div>\n",
       "<style scoped>\n",
       "    .dataframe tbody tr th:only-of-type {\n",
       "        vertical-align: middle;\n",
       "    }\n",
       "\n",
       "    .dataframe tbody tr th {\n",
       "        vertical-align: top;\n",
       "    }\n",
       "\n",
       "    .dataframe thead th {\n",
       "        text-align: right;\n",
       "    }\n",
       "</style>\n",
       "<table border=\"1\" class=\"dataframe\">\n",
       "  <thead>\n",
       "    <tr style=\"text-align: right;\">\n",
       "      <th></th>\n",
       "      <th>last_transaction</th>\n",
       "      <th>doy_ls_tran</th>\n",
       "      <th>woy_ls_tran</th>\n",
       "      <th>moy_ls_tran</th>\n",
       "      <th>dow_ls_tran</th>\n",
       "    </tr>\n",
       "  </thead>\n",
       "  <tbody>\n",
       "    <tr>\n",
       "      <th>0</th>\n",
       "      <td>2019-05-21</td>\n",
       "      <td>141.0</td>\n",
       "      <td>21</td>\n",
       "      <td>5.0</td>\n",
       "      <td>1.0</td>\n",
       "    </tr>\n",
       "    <tr>\n",
       "      <th>1</th>\n",
       "      <td>2019-11-01</td>\n",
       "      <td>305.0</td>\n",
       "      <td>44</td>\n",
       "      <td>11.0</td>\n",
       "      <td>4.0</td>\n",
       "    </tr>\n",
       "    <tr>\n",
       "      <th>2</th>\n",
       "      <td>NaT</td>\n",
       "      <td>NaN</td>\n",
       "      <td>&lt;NA&gt;</td>\n",
       "      <td>NaN</td>\n",
       "      <td>NaN</td>\n",
       "    </tr>\n",
       "    <tr>\n",
       "      <th>3</th>\n",
       "      <td>2019-08-06</td>\n",
       "      <td>218.0</td>\n",
       "      <td>32</td>\n",
       "      <td>8.0</td>\n",
       "      <td>1.0</td>\n",
       "    </tr>\n",
       "    <tr>\n",
       "      <th>4</th>\n",
       "      <td>2019-11-03</td>\n",
       "      <td>307.0</td>\n",
       "      <td>44</td>\n",
       "      <td>11.0</td>\n",
       "      <td>6.0</td>\n",
       "    </tr>\n",
       "  </tbody>\n",
       "</table>\n",
       "</div>"
      ],
      "text/plain": [
       "  last_transaction  doy_ls_tran  woy_ls_tran  moy_ls_tran  dow_ls_tran\n",
       "0       2019-05-21        141.0           21          5.0          1.0\n",
       "1       2019-11-01        305.0           44         11.0          4.0\n",
       "2              NaT          NaN         <NA>          NaN          NaN\n",
       "3       2019-08-06        218.0           32          8.0          1.0\n",
       "4       2019-11-03        307.0           44         11.0          6.0"
      ]
     },
     "execution_count": 20,
     "metadata": {},
     "output_type": "execute_result"
    }
   ],
   "source": [
    "# checking new extracted columns using datetime\n",
    "data[['last_transaction','doy_ls_tran','woy_ls_tran','moy_ls_tran','dow_ls_tran']].head()"
   ]
  },
  {
   "cell_type": "markdown",
   "metadata": {
    "colab_type": "text",
    "id": "ey6xOF4gqHu2"
   },
   "source": [
    "The first column is the complete date of the last transaction which was done by the any given customer.\n",
    "\n",
    "The next columns represent the day of year, week of year, month of year, day of week when the last transaction was done.\n",
    "\n",
    "**Breaking down the date variable** into these granular information will **help us in understand when the last transaction was done from different perspectives**. Now that we have extracted the essentials from the last_transaction variables, we will drop it from the dataset.\n",
    "\n"
   ]
  },
  {
   "cell_type": "code",
   "execution_count": 21,
   "metadata": {
    "colab": {
     "base_uri": "https://localhost:8080/",
     "height": 442
    },
    "colab_type": "code",
    "executionInfo": {
     "elapsed": 2202,
     "status": "ok",
     "timestamp": 1581673264306,
     "user": {
      "displayName": "Sharoon Saxena",
      "photoUrl": "https://lh3.googleusercontent.com/a-/AAuE7mA06b2KEfgpAIC1tQCip2ka2KqXrCY2GfWW9Fww=s64",
      "userId": "01167841530696023488"
     },
     "user_tz": -330
    },
    "id": "KVGFEI5aynYs",
    "outputId": "1965949d-f8df-46e9-e02b-0cebb26bf2c9"
   },
   "outputs": [
    {
     "data": {
      "text/plain": [
       "customer_id                          int64\n",
       "vintage                              int64\n",
       "age                                  int64\n",
       "gender                            category\n",
       "dependents                           Int64\n",
       "occupation                        category\n",
       "city                              category\n",
       "customer_nw_category              category\n",
       "branch_code                       category\n",
       "current_balance                    float64\n",
       "previous_month_end_balance         float64\n",
       "average_monthly_balance_prevQ      float64\n",
       "average_monthly_balance_prevQ2     float64\n",
       "current_month_credit               float64\n",
       "previous_month_credit              float64\n",
       "current_month_debit                float64\n",
       "previous_month_debit               float64\n",
       "current_month_balance              float64\n",
       "previous_month_balance             float64\n",
       "churn                             category\n",
       "doy_ls_tran                        float64\n",
       "woy_ls_tran                         UInt32\n",
       "moy_ls_tran                        float64\n",
       "dow_ls_tran                        float64\n",
       "dtype: object"
      ]
     },
     "execution_count": 21,
     "metadata": {},
     "output_type": "execute_result"
    }
   ],
   "source": [
    "data = data.drop(columns = ['last_transaction'])\n",
    "data.dtypes"
   ]
  },
  {
   "cell_type": "code",
   "execution_count": 22,
   "metadata": {},
   "outputs": [],
   "source": [
    "data.to_csv(\"customer_churn_v1.csv\")\n",
    "data.to_pickle(\"customer_churn_v1.pkl\")"
   ]
  },
  {
   "cell_type": "code",
   "execution_count": 1,
   "metadata": {},
   "outputs": [
    {
     "ename": "NameError",
     "evalue": "name 'nn' is not defined",
     "output_type": "error",
     "traceback": [
      "\u001b[1;31m---------------------------------------------------------------------------\u001b[0m",
      "\u001b[1;31mNameError\u001b[0m                                 Traceback (most recent call last)",
      "Cell \u001b[1;32mIn[1], line 1\u001b[0m\n\u001b[1;32m----> 1\u001b[0m \u001b[43mnn\u001b[49m\n",
      "\u001b[1;31mNameError\u001b[0m: name 'nn' is not defined"
     ]
    }
   ],
   "source": [
    "nn"
   ]
  },
  {
   "cell_type": "code",
   "execution_count": null,
   "metadata": {},
   "outputs": [],
   "source": []
  }
 ],
 "metadata": {
  "colab": {
   "collapsed_sections": [],
   "name": "3. Variable Identification.ipynb",
   "version": ""
  },
  "kernelspec": {
   "display_name": "Python 3 (ipykernel)",
   "language": "python",
   "name": "python3"
  },
  "language_info": {
   "codemirror_mode": {
    "name": "ipython",
    "version": 3
   },
   "file_extension": ".py",
   "mimetype": "text/x-python",
   "name": "python",
   "nbconvert_exporter": "python",
   "pygments_lexer": "ipython3",
   "version": "3.10.9"
  }
 },
 "nbformat": 4,
 "nbformat_minor": 1
}
