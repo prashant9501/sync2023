{
 "cells": [
  {
   "cell_type": "markdown",
   "metadata": {},
   "source": [
    "## Continue Data Analysis"
   ]
  },
  {
   "cell_type": "code",
   "execution_count": 26,
   "metadata": {},
   "outputs": [],
   "source": [
    "import pandas as pd"
   ]
  },
  {
   "cell_type": "code",
   "execution_count": 51,
   "metadata": {},
   "outputs": [],
   "source": [
    "df = pd.read_csv(\"customer_churn_v1.csv\")"
   ]
  },
  {
   "cell_type": "code",
   "execution_count": 52,
   "metadata": {},
   "outputs": [
    {
     "name": "stdout",
     "output_type": "stream",
     "text": [
      "<class 'pandas.core.frame.DataFrame'>\n",
      "RangeIndex: 15930 entries, 0 to 15929\n",
      "Data columns (total 25 columns):\n",
      " #   Column                          Non-Null Count  Dtype  \n",
      "---  ------                          --------------  -----  \n",
      " 0   Unnamed: 0                      15930 non-null  int64  \n",
      " 1   customer_id                     15930 non-null  int64  \n",
      " 2   vintage                         15930 non-null  int64  \n",
      " 3   age                             15930 non-null  int64  \n",
      " 4   gender                          15642 non-null  object \n",
      " 5   dependents                      14582 non-null  float64\n",
      " 6   occupation                      15883 non-null  object \n",
      " 7   city                            15470 non-null  float64\n",
      " 8   customer_nw_category            15930 non-null  int64  \n",
      " 9   branch_code                     15930 non-null  int64  \n",
      " 10  current_balance                 15930 non-null  float64\n",
      " 11  previous_month_end_balance      15930 non-null  float64\n",
      " 12  average_monthly_balance_prevQ   15930 non-null  float64\n",
      " 13  average_monthly_balance_prevQ2  15930 non-null  float64\n",
      " 14  current_month_credit            15930 non-null  float64\n",
      " 15  previous_month_credit           15930 non-null  float64\n",
      " 16  current_month_debit             15930 non-null  float64\n",
      " 17  previous_month_debit            15929 non-null  float64\n",
      " 18  current_month_balance           15929 non-null  float64\n",
      " 19  previous_month_balance          15929 non-null  float64\n",
      " 20  churn                           15929 non-null  float64\n",
      " 21  doy_ls_tran                     14118 non-null  float64\n",
      " 22  woy_ls_tran                     14118 non-null  float64\n",
      " 23  moy_ls_tran                     14118 non-null  float64\n",
      " 24  dow_ls_tran                     14118 non-null  float64\n",
      "dtypes: float64(17), int64(6), object(2)\n",
      "memory usage: 3.0+ MB\n"
     ]
    }
   ],
   "source": [
    "df.info()"
   ]
  },
  {
   "cell_type": "code",
   "execution_count": null,
   "metadata": {},
   "outputs": [],
   "source": []
  },
  {
   "cell_type": "code",
   "execution_count": 53,
   "metadata": {},
   "outputs": [],
   "source": [
    "df = pd.read_pickle(\"customer_churn_v1.pkl\")"
   ]
  },
  {
   "cell_type": "code",
   "execution_count": 29,
   "metadata": {},
   "outputs": [
    {
     "data": {
      "text/html": [
       "<div>\n",
       "<style scoped>\n",
       "    .dataframe tbody tr th:only-of-type {\n",
       "        vertical-align: middle;\n",
       "    }\n",
       "\n",
       "    .dataframe tbody tr th {\n",
       "        vertical-align: top;\n",
       "    }\n",
       "\n",
       "    .dataframe thead th {\n",
       "        text-align: right;\n",
       "    }\n",
       "</style>\n",
       "<table border=\"1\" class=\"dataframe\">\n",
       "  <thead>\n",
       "    <tr style=\"text-align: right;\">\n",
       "      <th></th>\n",
       "      <th>customer_id</th>\n",
       "      <th>vintage</th>\n",
       "      <th>age</th>\n",
       "      <th>gender</th>\n",
       "      <th>dependents</th>\n",
       "      <th>occupation</th>\n",
       "      <th>city</th>\n",
       "      <th>customer_nw_category</th>\n",
       "      <th>branch_code</th>\n",
       "      <th>current_balance</th>\n",
       "      <th>...</th>\n",
       "      <th>previous_month_credit</th>\n",
       "      <th>current_month_debit</th>\n",
       "      <th>previous_month_debit</th>\n",
       "      <th>current_month_balance</th>\n",
       "      <th>previous_month_balance</th>\n",
       "      <th>churn</th>\n",
       "      <th>doy_ls_tran</th>\n",
       "      <th>woy_ls_tran</th>\n",
       "      <th>moy_ls_tran</th>\n",
       "      <th>dow_ls_tran</th>\n",
       "    </tr>\n",
       "  </thead>\n",
       "  <tbody>\n",
       "    <tr>\n",
       "      <th>0</th>\n",
       "      <td>1</td>\n",
       "      <td>2401</td>\n",
       "      <td>66</td>\n",
       "      <td>Male</td>\n",
       "      <td>0</td>\n",
       "      <td>self_employed</td>\n",
       "      <td>187.0</td>\n",
       "      <td>2</td>\n",
       "      <td>755</td>\n",
       "      <td>1458.71</td>\n",
       "      <td>...</td>\n",
       "      <td>0.20</td>\n",
       "      <td>0.20</td>\n",
       "      <td>0.20</td>\n",
       "      <td>1458.71</td>\n",
       "      <td>1458.71</td>\n",
       "      <td>0.0</td>\n",
       "      <td>141.0</td>\n",
       "      <td>21</td>\n",
       "      <td>5.0</td>\n",
       "      <td>1.0</td>\n",
       "    </tr>\n",
       "    <tr>\n",
       "      <th>1</th>\n",
       "      <td>2</td>\n",
       "      <td>2648</td>\n",
       "      <td>35</td>\n",
       "      <td>Male</td>\n",
       "      <td>0</td>\n",
       "      <td>self_employed</td>\n",
       "      <td>NaN</td>\n",
       "      <td>2</td>\n",
       "      <td>3214</td>\n",
       "      <td>5390.37</td>\n",
       "      <td>...</td>\n",
       "      <td>0.56</td>\n",
       "      <td>5486.27</td>\n",
       "      <td>100.56</td>\n",
       "      <td>6496.78</td>\n",
       "      <td>8787.61</td>\n",
       "      <td>0.0</td>\n",
       "      <td>305.0</td>\n",
       "      <td>44</td>\n",
       "      <td>11.0</td>\n",
       "      <td>4.0</td>\n",
       "    </tr>\n",
       "    <tr>\n",
       "      <th>2</th>\n",
       "      <td>4</td>\n",
       "      <td>2494</td>\n",
       "      <td>31</td>\n",
       "      <td>Male</td>\n",
       "      <td>0</td>\n",
       "      <td>salaried</td>\n",
       "      <td>146.0</td>\n",
       "      <td>2</td>\n",
       "      <td>41</td>\n",
       "      <td>3913.16</td>\n",
       "      <td>...</td>\n",
       "      <td>0.61</td>\n",
       "      <td>6046.73</td>\n",
       "      <td>259.23</td>\n",
       "      <td>5006.28</td>\n",
       "      <td>5070.14</td>\n",
       "      <td>0.0</td>\n",
       "      <td>NaN</td>\n",
       "      <td>&lt;NA&gt;</td>\n",
       "      <td>NaN</td>\n",
       "      <td>NaN</td>\n",
       "    </tr>\n",
       "    <tr>\n",
       "      <th>3</th>\n",
       "      <td>5</td>\n",
       "      <td>2629</td>\n",
       "      <td>90</td>\n",
       "      <td>NaN</td>\n",
       "      <td>&lt;NA&gt;</td>\n",
       "      <td>self_employed</td>\n",
       "      <td>1020.0</td>\n",
       "      <td>2</td>\n",
       "      <td>582</td>\n",
       "      <td>2291.91</td>\n",
       "      <td>...</td>\n",
       "      <td>0.47</td>\n",
       "      <td>0.47</td>\n",
       "      <td>2143.33</td>\n",
       "      <td>2291.91</td>\n",
       "      <td>1669.79</td>\n",
       "      <td>1.0</td>\n",
       "      <td>218.0</td>\n",
       "      <td>32</td>\n",
       "      <td>8.0</td>\n",
       "      <td>1.0</td>\n",
       "    </tr>\n",
       "    <tr>\n",
       "      <th>4</th>\n",
       "      <td>6</td>\n",
       "      <td>1879</td>\n",
       "      <td>42</td>\n",
       "      <td>Male</td>\n",
       "      <td>2</td>\n",
       "      <td>self_employed</td>\n",
       "      <td>1494.0</td>\n",
       "      <td>3</td>\n",
       "      <td>388</td>\n",
       "      <td>927.72</td>\n",
       "      <td>...</td>\n",
       "      <td>714.61</td>\n",
       "      <td>588.62</td>\n",
       "      <td>1538.06</td>\n",
       "      <td>1157.15</td>\n",
       "      <td>1677.16</td>\n",
       "      <td>1.0</td>\n",
       "      <td>307.0</td>\n",
       "      <td>44</td>\n",
       "      <td>11.0</td>\n",
       "      <td>6.0</td>\n",
       "    </tr>\n",
       "  </tbody>\n",
       "</table>\n",
       "<p>5 rows × 24 columns</p>\n",
       "</div>"
      ],
      "text/plain": [
       "   customer_id  vintage  age gender  dependents     occupation    city  \\\n",
       "0            1     2401   66   Male           0  self_employed   187.0   \n",
       "1            2     2648   35   Male           0  self_employed     NaN   \n",
       "2            4     2494   31   Male           0       salaried   146.0   \n",
       "3            5     2629   90    NaN        <NA>  self_employed  1020.0   \n",
       "4            6     1879   42   Male           2  self_employed  1494.0   \n",
       "\n",
       "  customer_nw_category branch_code  current_balance  ...  \\\n",
       "0                    2         755          1458.71  ...   \n",
       "1                    2        3214          5390.37  ...   \n",
       "2                    2          41          3913.16  ...   \n",
       "3                    2         582          2291.91  ...   \n",
       "4                    3         388           927.72  ...   \n",
       "\n",
       "   previous_month_credit  current_month_debit  previous_month_debit  \\\n",
       "0                   0.20                 0.20                  0.20   \n",
       "1                   0.56              5486.27                100.56   \n",
       "2                   0.61              6046.73                259.23   \n",
       "3                   0.47                 0.47               2143.33   \n",
       "4                 714.61               588.62               1538.06   \n",
       "\n",
       "   current_month_balance  previous_month_balance  churn  doy_ls_tran  \\\n",
       "0                1458.71                 1458.71    0.0        141.0   \n",
       "1                6496.78                 8787.61    0.0        305.0   \n",
       "2                5006.28                 5070.14    0.0          NaN   \n",
       "3                2291.91                 1669.79    1.0        218.0   \n",
       "4                1157.15                 1677.16    1.0        307.0   \n",
       "\n",
       "   woy_ls_tran  moy_ls_tran dow_ls_tran  \n",
       "0           21          5.0         1.0  \n",
       "1           44         11.0         4.0  \n",
       "2         <NA>          NaN         NaN  \n",
       "3           32          8.0         1.0  \n",
       "4           44         11.0         6.0  \n",
       "\n",
       "[5 rows x 24 columns]"
      ]
     },
     "execution_count": 29,
     "metadata": {},
     "output_type": "execute_result"
    }
   ],
   "source": [
    "df.head()"
   ]
  },
  {
   "cell_type": "code",
   "execution_count": 31,
   "metadata": {},
   "outputs": [
    {
     "name": "stdout",
     "output_type": "stream",
     "text": [
      "<class 'pandas.core.frame.DataFrame'>\n",
      "RangeIndex: 15930 entries, 0 to 15929\n",
      "Data columns (total 24 columns):\n",
      " #   Column                          Non-Null Count  Dtype   \n",
      "---  ------                          --------------  -----   \n",
      " 0   customer_id                     15930 non-null  int64   \n",
      " 1   vintage                         15930 non-null  int64   \n",
      " 2   age                             15930 non-null  int64   \n",
      " 3   gender                          15642 non-null  category\n",
      " 4   dependents                      14582 non-null  Int64   \n",
      " 5   occupation                      15883 non-null  category\n",
      " 6   city                            15470 non-null  category\n",
      " 7   customer_nw_category            15930 non-null  category\n",
      " 8   branch_code                     15930 non-null  category\n",
      " 9   current_balance                 15930 non-null  float64 \n",
      " 10  previous_month_end_balance      15930 non-null  float64 \n",
      " 11  average_monthly_balance_prevQ   15930 non-null  float64 \n",
      " 12  average_monthly_balance_prevQ2  15930 non-null  float64 \n",
      " 13  current_month_credit            15930 non-null  float64 \n",
      " 14  previous_month_credit           15930 non-null  float64 \n",
      " 15  current_month_debit             15930 non-null  float64 \n",
      " 16  previous_month_debit            15929 non-null  float64 \n",
      " 17  current_month_balance           15929 non-null  float64 \n",
      " 18  previous_month_balance          15929 non-null  float64 \n",
      " 19  churn                           15929 non-null  category\n",
      " 20  doy_ls_tran                     14118 non-null  float64 \n",
      " 21  woy_ls_tran                     14118 non-null  UInt32  \n",
      " 22  moy_ls_tran                     14118 non-null  float64 \n",
      " 23  dow_ls_tran                     14118 non-null  float64 \n",
      "dtypes: Int64(1), UInt32(1), category(6), float64(13), int64(3)\n",
      "memory usage: 2.3 MB\n"
     ]
    }
   ],
   "source": [
    "df.info()"
   ]
  },
  {
   "cell_type": "code",
   "execution_count": 34,
   "metadata": {},
   "outputs": [
    {
     "data": {
      "text/html": [
       "<div>\n",
       "<style scoped>\n",
       "    .dataframe tbody tr th:only-of-type {\n",
       "        vertical-align: middle;\n",
       "    }\n",
       "\n",
       "    .dataframe tbody tr th {\n",
       "        vertical-align: top;\n",
       "    }\n",
       "\n",
       "    .dataframe thead th {\n",
       "        text-align: right;\n",
       "    }\n",
       "</style>\n",
       "<table border=\"1\" class=\"dataframe\">\n",
       "  <thead>\n",
       "    <tr style=\"text-align: right;\">\n",
       "      <th></th>\n",
       "      <th>count</th>\n",
       "      <th>mean</th>\n",
       "      <th>std</th>\n",
       "      <th>min</th>\n",
       "      <th>25%</th>\n",
       "      <th>50%</th>\n",
       "      <th>75%</th>\n",
       "      <th>max</th>\n",
       "    </tr>\n",
       "  </thead>\n",
       "  <tbody>\n",
       "    <tr>\n",
       "      <th>customer_id</th>\n",
       "      <td>15930.0</td>\n",
       "      <td>8498.09</td>\n",
       "      <td>4910.08</td>\n",
       "      <td>1.00</td>\n",
       "      <td>4245.25</td>\n",
       "      <td>8485.50</td>\n",
       "      <td>12752.75</td>\n",
       "      <td>16997.00</td>\n",
       "    </tr>\n",
       "    <tr>\n",
       "      <th>vintage</th>\n",
       "      <td>15930.0</td>\n",
       "      <td>2392.44</td>\n",
       "      <td>272.49</td>\n",
       "      <td>438.00</td>\n",
       "      <td>2260.00</td>\n",
       "      <td>2454.00</td>\n",
       "      <td>2593.00</td>\n",
       "      <td>2776.00</td>\n",
       "    </tr>\n",
       "    <tr>\n",
       "      <th>age</th>\n",
       "      <td>15930.0</td>\n",
       "      <td>48.17</td>\n",
       "      <td>17.87</td>\n",
       "      <td>1.00</td>\n",
       "      <td>35.00</td>\n",
       "      <td>46.00</td>\n",
       "      <td>60.00</td>\n",
       "      <td>90.00</td>\n",
       "    </tr>\n",
       "    <tr>\n",
       "      <th>dependents</th>\n",
       "      <td>14582.0</td>\n",
       "      <td>0.36</td>\n",
       "      <td>1.09</td>\n",
       "      <td>0.00</td>\n",
       "      <td>0.00</td>\n",
       "      <td>0.00</td>\n",
       "      <td>0.00</td>\n",
       "      <td>52.00</td>\n",
       "    </tr>\n",
       "    <tr>\n",
       "      <th>current_balance</th>\n",
       "      <td>15930.0</td>\n",
       "      <td>7271.42</td>\n",
       "      <td>50511.91</td>\n",
       "      <td>-5503.96</td>\n",
       "      <td>1776.39</td>\n",
       "      <td>3276.64</td>\n",
       "      <td>6624.46</td>\n",
       "      <td>5905904.03</td>\n",
       "    </tr>\n",
       "    <tr>\n",
       "      <th>previous_month_end_balance</th>\n",
       "      <td>15930.0</td>\n",
       "      <td>7386.99</td>\n",
       "      <td>49442.42</td>\n",
       "      <td>-2998.64</td>\n",
       "      <td>1908.64</td>\n",
       "      <td>3381.18</td>\n",
       "      <td>6686.01</td>\n",
       "      <td>5740438.63</td>\n",
       "    </tr>\n",
       "    <tr>\n",
       "      <th>average_monthly_balance_prevQ</th>\n",
       "      <td>15930.0</td>\n",
       "      <td>7433.50</td>\n",
       "      <td>48935.40</td>\n",
       "      <td>1428.69</td>\n",
       "      <td>2168.16</td>\n",
       "      <td>3520.04</td>\n",
       "      <td>6676.24</td>\n",
       "      <td>5700289.57</td>\n",
       "    </tr>\n",
       "    <tr>\n",
       "      <th>average_monthly_balance_prevQ2</th>\n",
       "      <td>15930.0</td>\n",
       "      <td>7183.79</td>\n",
       "      <td>55285.74</td>\n",
       "      <td>-16506.10</td>\n",
       "      <td>1822.05</td>\n",
       "      <td>3373.78</td>\n",
       "      <td>6532.70</td>\n",
       "      <td>5010170.10</td>\n",
       "    </tr>\n",
       "    <tr>\n",
       "      <th>current_month_credit</th>\n",
       "      <td>15930.0</td>\n",
       "      <td>3279.20</td>\n",
       "      <td>31247.26</td>\n",
       "      <td>0.01</td>\n",
       "      <td>0.31</td>\n",
       "      <td>0.61</td>\n",
       "      <td>707.58</td>\n",
       "      <td>1764285.97</td>\n",
       "    </tr>\n",
       "    <tr>\n",
       "      <th>previous_month_credit</th>\n",
       "      <td>15930.0</td>\n",
       "      <td>3419.49</td>\n",
       "      <td>35412.68</td>\n",
       "      <td>0.01</td>\n",
       "      <td>0.33</td>\n",
       "      <td>0.64</td>\n",
       "      <td>771.84</td>\n",
       "      <td>2361808.29</td>\n",
       "    </tr>\n",
       "    <tr>\n",
       "      <th>current_month_debit</th>\n",
       "      <td>15930.0</td>\n",
       "      <td>3498.20</td>\n",
       "      <td>28257.28</td>\n",
       "      <td>0.01</td>\n",
       "      <td>0.41</td>\n",
       "      <td>94.40</td>\n",
       "      <td>1393.23</td>\n",
       "      <td>1764285.97</td>\n",
       "    </tr>\n",
       "    <tr>\n",
       "      <th>previous_month_debit</th>\n",
       "      <td>15929.0</td>\n",
       "      <td>3466.23</td>\n",
       "      <td>27720.81</td>\n",
       "      <td>0.01</td>\n",
       "      <td>0.41</td>\n",
       "      <td>112.48</td>\n",
       "      <td>1357.73</td>\n",
       "      <td>1414168.06</td>\n",
       "    </tr>\n",
       "    <tr>\n",
       "      <th>current_month_balance</th>\n",
       "      <td>15929.0</td>\n",
       "      <td>7362.58</td>\n",
       "      <td>49338.07</td>\n",
       "      <td>-3374.18</td>\n",
       "      <td>1988.66</td>\n",
       "      <td>3445.41</td>\n",
       "      <td>6658.49</td>\n",
       "      <td>5778184.77</td>\n",
       "    </tr>\n",
       "    <tr>\n",
       "      <th>previous_month_balance</th>\n",
       "      <td>15929.0</td>\n",
       "      <td>7438.76</td>\n",
       "      <td>49736.15</td>\n",
       "      <td>-3060.13</td>\n",
       "      <td>2077.04</td>\n",
       "      <td>3450.51</td>\n",
       "      <td>6679.81</td>\n",
       "      <td>5720144.50</td>\n",
       "    </tr>\n",
       "    <tr>\n",
       "      <th>doy_ls_tran</th>\n",
       "      <td>14118.0</td>\n",
       "      <td>295.71</td>\n",
       "      <td>85.57</td>\n",
       "      <td>1.00</td>\n",
       "      <td>270.00</td>\n",
       "      <td>335.00</td>\n",
       "      <td>354.00</td>\n",
       "      <td>365.00</td>\n",
       "    </tr>\n",
       "    <tr>\n",
       "      <th>woy_ls_tran</th>\n",
       "      <td>14118.0</td>\n",
       "      <td>39.04</td>\n",
       "      <td>15.97</td>\n",
       "      <td>1.00</td>\n",
       "      <td>33.00</td>\n",
       "      <td>47.00</td>\n",
       "      <td>50.00</td>\n",
       "      <td>52.00</td>\n",
       "    </tr>\n",
       "    <tr>\n",
       "      <th>moy_ls_tran</th>\n",
       "      <td>14118.0</td>\n",
       "      <td>10.16</td>\n",
       "      <td>2.76</td>\n",
       "      <td>1.00</td>\n",
       "      <td>9.00</td>\n",
       "      <td>12.00</td>\n",
       "      <td>12.00</td>\n",
       "      <td>12.00</td>\n",
       "    </tr>\n",
       "    <tr>\n",
       "      <th>dow_ls_tran</th>\n",
       "      <td>14118.0</td>\n",
       "      <td>3.04</td>\n",
       "      <td>1.71</td>\n",
       "      <td>0.00</td>\n",
       "      <td>1.00</td>\n",
       "      <td>3.00</td>\n",
       "      <td>5.00</td>\n",
       "      <td>6.00</td>\n",
       "    </tr>\n",
       "  </tbody>\n",
       "</table>\n",
       "</div>"
      ],
      "text/plain": [
       "                                  count     mean       std       min      25%  \\\n",
       "customer_id                     15930.0  8498.09   4910.08      1.00  4245.25   \n",
       "vintage                         15930.0  2392.44    272.49    438.00  2260.00   \n",
       "age                             15930.0    48.17     17.87      1.00    35.00   \n",
       "dependents                      14582.0     0.36      1.09      0.00     0.00   \n",
       "current_balance                 15930.0  7271.42  50511.91  -5503.96  1776.39   \n",
       "previous_month_end_balance      15930.0  7386.99  49442.42  -2998.64  1908.64   \n",
       "average_monthly_balance_prevQ   15930.0  7433.50  48935.40   1428.69  2168.16   \n",
       "average_monthly_balance_prevQ2  15930.0  7183.79  55285.74 -16506.10  1822.05   \n",
       "current_month_credit            15930.0  3279.20  31247.26      0.01     0.31   \n",
       "previous_month_credit           15930.0  3419.49  35412.68      0.01     0.33   \n",
       "current_month_debit             15930.0  3498.20  28257.28      0.01     0.41   \n",
       "previous_month_debit            15929.0  3466.23  27720.81      0.01     0.41   \n",
       "current_month_balance           15929.0  7362.58  49338.07  -3374.18  1988.66   \n",
       "previous_month_balance          15929.0  7438.76  49736.15  -3060.13  2077.04   \n",
       "doy_ls_tran                     14118.0   295.71     85.57      1.00   270.00   \n",
       "woy_ls_tran                     14118.0    39.04     15.97      1.00    33.00   \n",
       "moy_ls_tran                     14118.0    10.16      2.76      1.00     9.00   \n",
       "dow_ls_tran                     14118.0     3.04      1.71      0.00     1.00   \n",
       "\n",
       "                                    50%       75%         max  \n",
       "customer_id                     8485.50  12752.75    16997.00  \n",
       "vintage                         2454.00   2593.00     2776.00  \n",
       "age                               46.00     60.00       90.00  \n",
       "dependents                         0.00      0.00       52.00  \n",
       "current_balance                 3276.64   6624.46  5905904.03  \n",
       "previous_month_end_balance      3381.18   6686.01  5740438.63  \n",
       "average_monthly_balance_prevQ   3520.04   6676.24  5700289.57  \n",
       "average_monthly_balance_prevQ2  3373.78   6532.70  5010170.10  \n",
       "current_month_credit               0.61    707.58  1764285.97  \n",
       "previous_month_credit              0.64    771.84  2361808.29  \n",
       "current_month_debit               94.40   1393.23  1764285.97  \n",
       "previous_month_debit             112.48   1357.73  1414168.06  \n",
       "current_month_balance           3445.41   6658.49  5778184.77  \n",
       "previous_month_balance          3450.51   6679.81  5720144.50  \n",
       "doy_ls_tran                      335.00    354.00      365.00  \n",
       "woy_ls_tran                       47.00     50.00       52.00  \n",
       "moy_ls_tran                       12.00     12.00       12.00  \n",
       "dow_ls_tran                        3.00      5.00        6.00  "
      ]
     },
     "execution_count": 34,
     "metadata": {},
     "output_type": "execute_result"
    }
   ],
   "source": [
    "df.describe().T.round(2)  # quick statistical summary of the numeric variables"
   ]
  },
  {
   "cell_type": "code",
   "execution_count": 50,
   "metadata": {},
   "outputs": [
    {
     "data": {
      "text/html": [
       "<div>\n",
       "<style scoped>\n",
       "    .dataframe tbody tr th:only-of-type {\n",
       "        vertical-align: middle;\n",
       "    }\n",
       "\n",
       "    .dataframe tbody tr th {\n",
       "        vertical-align: top;\n",
       "    }\n",
       "\n",
       "    .dataframe thead th {\n",
       "        text-align: right;\n",
       "    }\n",
       "</style>\n",
       "<table border=\"1\" class=\"dataframe\">\n",
       "  <thead>\n",
       "    <tr style=\"text-align: right;\">\n",
       "      <th></th>\n",
       "      <th>gender</th>\n",
       "      <th>occupation</th>\n",
       "      <th>city</th>\n",
       "      <th>customer_nw_category</th>\n",
       "      <th>branch_code</th>\n",
       "      <th>churn</th>\n",
       "    </tr>\n",
       "  </thead>\n",
       "  <tbody>\n",
       "    <tr>\n",
       "      <th>count</th>\n",
       "      <td>15642</td>\n",
       "      <td>15883</td>\n",
       "      <td>15470.0</td>\n",
       "      <td>15930</td>\n",
       "      <td>15930</td>\n",
       "      <td>15929.0</td>\n",
       "    </tr>\n",
       "    <tr>\n",
       "      <th>unique</th>\n",
       "      <td>2</td>\n",
       "      <td>5</td>\n",
       "      <td>1287.0</td>\n",
       "      <td>3</td>\n",
       "      <td>2806</td>\n",
       "      <td>2.0</td>\n",
       "    </tr>\n",
       "    <tr>\n",
       "      <th>top</th>\n",
       "      <td>Male</td>\n",
       "      <td>self_employed</td>\n",
       "      <td>1020.0</td>\n",
       "      <td>2</td>\n",
       "      <td>6</td>\n",
       "      <td>0.0</td>\n",
       "    </tr>\n",
       "    <tr>\n",
       "      <th>freq</th>\n",
       "      <td>9308</td>\n",
       "      <td>9814</td>\n",
       "      <td>1949.0</td>\n",
       "      <td>8164</td>\n",
       "      <td>75</td>\n",
       "      <td>12942.0</td>\n",
       "    </tr>\n",
       "  </tbody>\n",
       "</table>\n",
       "</div>"
      ],
      "text/plain": [
       "       gender     occupation     city  customer_nw_category  branch_code  \\\n",
       "count   15642          15883  15470.0                 15930        15930   \n",
       "unique      2              5   1287.0                     3         2806   \n",
       "top      Male  self_employed   1020.0                     2            6   \n",
       "freq     9308           9814   1949.0                  8164           75   \n",
       "\n",
       "          churn  \n",
       "count   15929.0  \n",
       "unique      2.0  \n",
       "top         0.0  \n",
       "freq    12942.0  "
      ]
     },
     "execution_count": 50,
     "metadata": {},
     "output_type": "execute_result"
    }
   ],
   "source": [
    "df.describe(include='category')"
   ]
  },
  {
   "cell_type": "code",
   "execution_count": 65,
   "metadata": {},
   "outputs": [
    {
     "data": {
      "text/plain": [
       "0.23601847101077475"
      ]
     },
     "execution_count": 65,
     "metadata": {},
     "output_type": "execute_result"
    }
   ],
   "source": [
    "460/1949"
   ]
  },
  {
   "cell_type": "code",
   "execution_count": 38,
   "metadata": {},
   "outputs": [
    {
     "data": {
      "text/plain": [
       "Male      9308\n",
       "Female    6334\n",
       "Name: gender, dtype: int64"
      ]
     },
     "execution_count": 38,
     "metadata": {},
     "output_type": "execute_result"
    }
   ],
   "source": [
    "df['gender'].value_counts()"
   ]
  },
  {
   "cell_type": "code",
   "execution_count": 39,
   "metadata": {},
   "outputs": [
    {
     "data": {
      "text/plain": [
       "'Male'"
      ]
     },
     "execution_count": 39,
     "metadata": {},
     "output_type": "execute_result"
    }
   ],
   "source": [
    "df['gender'].mode()[0]   # most frequent value in the cat. var"
   ]
  },
  {
   "cell_type": "markdown",
   "metadata": {},
   "source": [
    "## Missing values"
   ]
  },
  {
   "cell_type": "code",
   "execution_count": 40,
   "metadata": {},
   "outputs": [
    {
     "data": {
      "text/plain": [
       "customer_id                          0\n",
       "vintage                              0\n",
       "age                                  0\n",
       "gender                             288\n",
       "dependents                        1348\n",
       "occupation                          47\n",
       "city                               460\n",
       "customer_nw_category                 0\n",
       "branch_code                          0\n",
       "current_balance                      0\n",
       "previous_month_end_balance           0\n",
       "average_monthly_balance_prevQ        0\n",
       "average_monthly_balance_prevQ2       0\n",
       "current_month_credit                 0\n",
       "previous_month_credit                0\n",
       "current_month_debit                  0\n",
       "previous_month_debit                 1\n",
       "current_month_balance                1\n",
       "previous_month_balance               1\n",
       "churn                                1\n",
       "doy_ls_tran                       1812\n",
       "woy_ls_tran                       1812\n",
       "moy_ls_tran                       1812\n",
       "dow_ls_tran                       1812\n",
       "dtype: int64"
      ]
     },
     "execution_count": 40,
     "metadata": {},
     "output_type": "execute_result"
    }
   ],
   "source": [
    "df.isna().sum()  # list of all the columns having missing vlaues & the number f missing values"
   ]
  },
  {
   "cell_type": "code",
   "execution_count": 42,
   "metadata": {},
   "outputs": [
    {
     "data": {
      "text/plain": [
       "288"
      ]
     },
     "execution_count": 42,
     "metadata": {},
     "output_type": "execute_result"
    }
   ],
   "source": [
    "df['gender'].isnull().sum()"
   ]
  },
  {
   "cell_type": "code",
   "execution_count": 54,
   "metadata": {},
   "outputs": [
    {
     "data": {
      "text/plain": [
       "0          Male\n",
       "1          Male\n",
       "2          Male\n",
       "3           NaN\n",
       "4          Male\n",
       "          ...  \n",
       "15925    Female\n",
       "15926      Male\n",
       "15927    Female\n",
       "15928    Female\n",
       "15929      Male\n",
       "Name: gender, Length: 15930, dtype: category\n",
       "Categories (2, object): ['Female', 'Male']"
      ]
     },
     "execution_count": 54,
     "metadata": {},
     "output_type": "execute_result"
    }
   ],
   "source": [
    "df['gender']"
   ]
  },
  {
   "cell_type": "code",
   "execution_count": 57,
   "metadata": {},
   "outputs": [],
   "source": [
    "df['gender'].fillna(value=df['gender'].mode()[0], inplace=True)"
   ]
  },
  {
   "cell_type": "code",
   "execution_count": 59,
   "metadata": {},
   "outputs": [
    {
     "data": {
      "text/plain": [
       "0"
      ]
     },
     "execution_count": 59,
     "metadata": {},
     "output_type": "execute_result"
    }
   ],
   "source": [
    "df['gender'].isna().sum()   # there no more missing vlues"
   ]
  },
  {
   "cell_type": "code",
   "execution_count": 61,
   "metadata": {},
   "outputs": [],
   "source": [
    "df['occupation'].fillna(value=df['occupation'].mode()[0], inplace=True)"
   ]
  },
  {
   "cell_type": "code",
   "execution_count": 62,
   "metadata": {},
   "outputs": [
    {
     "data": {
      "text/plain": [
       "0"
      ]
     },
     "execution_count": 62,
     "metadata": {},
     "output_type": "execute_result"
    }
   ],
   "source": [
    "df['occupation'].isna().sum() "
   ]
  },
  {
   "cell_type": "code",
   "execution_count": 63,
   "metadata": {},
   "outputs": [
    {
     "data": {
      "text/plain": [
       "1020.0    1949\n",
       "1096.0    1136\n",
       "409.0      762\n",
       "146.0      691\n",
       "834.0      641\n",
       "          ... \n",
       "911.0        1\n",
       "916.0        1\n",
       "919.0        1\n",
       "921.0        1\n",
       "832.0        1\n",
       "Name: city, Length: 1287, dtype: int64"
      ]
     },
     "execution_count": 63,
     "metadata": {},
     "output_type": "execute_result"
    }
   ],
   "source": [
    "df['city'].value_counts()"
   ]
  },
  {
   "cell_type": "code",
   "execution_count": 126,
   "metadata": {},
   "outputs": [
    {
     "name": "stderr",
     "output_type": "stream",
     "text": [
      "C:\\Users\\Prashant\\anaconda3\\lib\\site-packages\\IPython\\lib\\pretty.py:700: FutureWarning: Index.ravel returning ndarray is deprecated; in a future version this will return a view on self.\n",
      "  output = repr(obj)\n"
     ]
    },
    {
     "data": {
      "text/plain": [
       "0         187.0\n",
       "1           NaN\n",
       "2         146.0\n",
       "3        1020.0\n",
       "4        1494.0\n",
       "          ...  \n",
       "15925     409.0\n",
       "15926    1020.0\n",
       "15927     557.0\n",
       "15928    1540.0\n",
       "15929    1096.0\n",
       "Name: city, Length: 15930, dtype: category\n",
       "Categories (1287, float64): [0.0, 1.0, 2.0, 3.0, ..., 1645.0, 1646.0, 1647.0, 1648.0]"
      ]
     },
     "execution_count": 126,
     "metadata": {},
     "output_type": "execute_result"
    }
   ],
   "source": [
    "data[\"city\"]"
   ]
  },
  {
   "cell_type": "code",
   "execution_count": 125,
   "metadata": {},
   "outputs": [
    {
     "data": {
      "text/plain": [
       "1648"
      ]
     },
     "execution_count": 125,
     "metadata": {},
     "output_type": "execute_result"
    }
   ],
   "source": [
    "import numpy as np\n",
    "data[\"city\"].astype('Int64').max()"
   ]
  },
  {
   "cell_type": "code",
   "execution_count": 99,
   "metadata": {},
   "outputs": [
    {
     "data": {
      "text/plain": [
       "576"
      ]
     },
     "execution_count": 99,
     "metadata": {},
     "output_type": "execute_result"
    }
   ],
   "source": [
    "# how many cities have just one occurence in the dataset ?\n",
    "sum(data[\"city\"].value_counts() == 1)   # >>> can be assigned a new value 2001"
   ]
  },
  {
   "cell_type": "code",
   "execution_count": null,
   "metadata": {},
   "outputs": [],
   "source": [
    "# identify which all cities have a value count of 1\n"
   ]
  },
  {
   "cell_type": "code",
   "execution_count": null,
   "metadata": {},
   "outputs": [],
   "source": [
    "# replace all the above cities (which have a value count of 1) by 2001"
   ]
  },
  {
   "cell_type": "code",
   "execution_count": null,
   "metadata": {},
   "outputs": [],
   "source": []
  },
  {
   "cell_type": "code",
   "execution_count": 100,
   "metadata": {},
   "outputs": [
    {
     "data": {
      "text/plain": [
       "192"
      ]
     },
     "execution_count": 100,
     "metadata": {},
     "output_type": "execute_result"
    }
   ],
   "source": [
    "sum(data[\"city\"].value_counts() == 2)"
   ]
  },
  {
   "cell_type": "code",
   "execution_count": 101,
   "metadata": {},
   "outputs": [
    {
     "data": {
      "text/plain": [
       "132"
      ]
     },
     "execution_count": 101,
     "metadata": {},
     "output_type": "execute_result"
    }
   ],
   "source": [
    "sum(data[\"city\"].value_counts() == 3)"
   ]
  },
  {
   "cell_type": "code",
   "execution_count": 111,
   "metadata": {},
   "outputs": [
    {
     "data": {
      "text/plain": [
       "238"
      ]
     },
     "execution_count": 111,
     "metadata": {},
     "output_type": "execute_result"
    }
   ],
   "source": [
    "sum((data[\"city\"].value_counts() >= 4) & (data[\"city\"].value_counts() <= 10) )"
   ]
  },
  {
   "cell_type": "code",
   "execution_count": 113,
   "metadata": {},
   "outputs": [
    {
     "data": {
      "text/plain": [
       "125"
      ]
     },
     "execution_count": 113,
     "metadata": {},
     "output_type": "execute_result"
    }
   ],
   "source": [
    "sum((data[\"city\"].value_counts() >10) & (data[\"city\"].value_counts() <= 100) )"
   ]
  },
  {
   "cell_type": "code",
   "execution_count": 131,
   "metadata": {},
   "outputs": [
    {
     "data": {
      "text/plain": [
       "1263"
      ]
     },
     "execution_count": 131,
     "metadata": {},
     "output_type": "execute_result"
    }
   ],
   "source": [
    "576+192+132+238+125"
   ]
  },
  {
   "cell_type": "code",
   "execution_count": 81,
   "metadata": {},
   "outputs": [],
   "source": [
    "df['city'] = df['city'].astype('Int64')"
   ]
  },
  {
   "cell_type": "code",
   "execution_count": 82,
   "metadata": {},
   "outputs": [],
   "source": [
    "df['city'].fillna(value=100000, inplace=True)"
   ]
  },
  {
   "cell_type": "code",
   "execution_count": 83,
   "metadata": {},
   "outputs": [
    {
     "data": {
      "text/plain": [
       "0"
      ]
     },
     "execution_count": 83,
     "metadata": {},
     "output_type": "execute_result"
    }
   ],
   "source": [
    "df['city'] = df['city'].astype('category')\n",
    "df['city'].isna().sum()"
   ]
  },
  {
   "cell_type": "code",
   "execution_count": 86,
   "metadata": {},
   "outputs": [
    {
     "data": {
      "text/plain": [
       "1020      1949\n",
       "1096      1136\n",
       "409        762\n",
       "146        691\n",
       "834        641\n",
       "334        546\n",
       "100000     460\n",
       "1232       455\n",
       "623        419\n",
       "15         387\n",
       "Name: city, dtype: int64"
      ]
     },
     "execution_count": 86,
     "metadata": {},
     "output_type": "execute_result"
    }
   ],
   "source": [
    "df['city'].value_counts().nlargest(10)"
   ]
  },
  {
   "cell_type": "code",
   "execution_count": 97,
   "metadata": {},
   "outputs": [
    {
     "data": {
      "text/plain": [
       "0.3567411877657386"
      ]
     },
     "execution_count": 97,
     "metadata": {},
     "output_type": "execute_result"
    }
   ],
   "source": [
    "df['dependents'].mean()"
   ]
  },
  {
   "cell_type": "code",
   "execution_count": 139,
   "metadata": {},
   "outputs": [
    {
     "data": {
      "text/plain": [
       "0     0.824441\n",
       "2     0.083596\n",
       "1     0.054314\n",
       "3     0.028528\n",
       "4     0.006789\n",
       "5     0.001509\n",
       "6     0.000274\n",
       "7     0.000137\n",
       "9     0.000069\n",
       "52    0.000069\n",
       "36    0.000069\n",
       "50    0.000069\n",
       "8     0.000069\n",
       "25    0.000069\n",
       "Name: dependents, dtype: Float64"
      ]
     },
     "execution_count": 139,
     "metadata": {},
     "output_type": "execute_result"
    }
   ],
   "source": [
    "df['dependents'].value_counts(normalize=True)"
   ]
  },
  {
   "cell_type": "code",
   "execution_count": 137,
   "metadata": {},
   "outputs": [
    {
     "data": {
      "text/plain": [
       "1348"
      ]
     },
     "execution_count": 137,
     "metadata": {},
     "output_type": "execute_result"
    }
   ],
   "source": [
    "df['dependents'].isna().sum()"
   ]
  },
  {
   "cell_type": "code",
   "execution_count": 134,
   "metadata": {},
   "outputs": [
    {
     "data": {
      "text/plain": [
       "18.331508782973817"
      ]
     },
     "execution_count": 134,
     "metadata": {},
     "output_type": "execute_result"
    }
   ],
   "source": [
    "df['dependents'].skew()"
   ]
  },
  {
   "cell_type": "code",
   "execution_count": 135,
   "metadata": {},
   "outputs": [
    {
     "data": {
      "text/plain": [
       "(0.3567411877657386,\n",
       " 0.0,\n",
       " 0    0\n",
       " Name: dependents, dtype: Int64)"
      ]
     },
     "execution_count": 135,
     "metadata": {},
     "output_type": "execute_result"
    }
   ],
   "source": [
    "df['dependents'].mean(), df['dependents'].median(), df['dependents'].mode()"
   ]
  },
  {
   "cell_type": "code",
   "execution_count": 142,
   "metadata": {},
   "outputs": [
    {
     "data": {
      "text/plain": [
       "gender\n",
       "Female    0.0\n",
       "Male      1.0\n",
       "Name: dependents, dtype: Float64"
      ]
     },
     "execution_count": 142,
     "metadata": {},
     "output_type": "execute_result"
    }
   ],
   "source": [
    "gp = df.groupby(df['gender'])\n",
    "gp['dependents'].mean().round()"
   ]
  },
  {
   "cell_type": "code",
   "execution_count": 93,
   "metadata": {},
   "outputs": [
    {
     "data": {
      "text/plain": [
       "['Male', 'Female']\n",
       "Categories (2, object): ['Female', 'Male']"
      ]
     },
     "execution_count": 93,
     "metadata": {},
     "output_type": "execute_result"
    }
   ],
   "source": [
    "# wherever the dependents is NAN & gender is male, replace it with 1\n",
    "# wherever the dependents is NAN & gender is female, replace it with 0"
   ]
  },
  {
   "cell_type": "code",
   "execution_count": 146,
   "metadata": {},
   "outputs": [],
   "source": [
    "# total = data[\"dependents\"].value_counts().head(6).sum()\n",
    "# null_values = data[\"dependents\"].isna().sum()\n",
    "# replace = {}\n",
    "# dependents = 0\n",
    "\n",
    "# for count in data[\"dependents\"].value_counts().head(6): \n",
    "#     number = np.round((count/total)*null_values)\n",
    "#     #print(number)\n",
    "#     replace.__setitem__(dependents, number)\n",
    "#     dependents += 1\n",
    "\n",
    "# replace"
   ]
  },
  {
   "cell_type": "code",
   "execution_count": 152,
   "metadata": {},
   "outputs": [],
   "source": [
    "# Implement the strategy no. 2\n",
    "# wherever the dependents is NAN & gender is male, replace it with 1\n",
    "# wherever the dependents is NAN & gender is female, replace it with 0\n",
    "\n",
    "def impute_nan_dependents(cols):\n",
    "    gender = cols[0]\n",
    "    dep = cols[1]\n",
    "        \n",
    "    if pd.isnull(dep):\n",
    "        if gender == 'Male': return 1\n",
    "        else: return 0        \n",
    "    else: return dep"
   ]
  },
  {
   "cell_type": "code",
   "execution_count": 153,
   "metadata": {},
   "outputs": [
    {
     "data": {
      "text/html": [
       "<div>\n",
       "<style scoped>\n",
       "    .dataframe tbody tr th:only-of-type {\n",
       "        vertical-align: middle;\n",
       "    }\n",
       "\n",
       "    .dataframe tbody tr th {\n",
       "        vertical-align: top;\n",
       "    }\n",
       "\n",
       "    .dataframe thead th {\n",
       "        text-align: right;\n",
       "    }\n",
       "</style>\n",
       "<table border=\"1\" class=\"dataframe\">\n",
       "  <thead>\n",
       "    <tr style=\"text-align: right;\">\n",
       "      <th></th>\n",
       "      <th>gender</th>\n",
       "      <th>dependents</th>\n",
       "    </tr>\n",
       "  </thead>\n",
       "  <tbody>\n",
       "    <tr>\n",
       "      <th>0</th>\n",
       "      <td>Male</td>\n",
       "      <td>0</td>\n",
       "    </tr>\n",
       "    <tr>\n",
       "      <th>1</th>\n",
       "      <td>Male</td>\n",
       "      <td>0</td>\n",
       "    </tr>\n",
       "    <tr>\n",
       "      <th>2</th>\n",
       "      <td>Male</td>\n",
       "      <td>0</td>\n",
       "    </tr>\n",
       "    <tr>\n",
       "      <th>3</th>\n",
       "      <td>Male</td>\n",
       "      <td>&lt;NA&gt;</td>\n",
       "    </tr>\n",
       "    <tr>\n",
       "      <th>4</th>\n",
       "      <td>Male</td>\n",
       "      <td>2</td>\n",
       "    </tr>\n",
       "  </tbody>\n",
       "</table>\n",
       "</div>"
      ],
      "text/plain": [
       "  gender  dependents\n",
       "0   Male           0\n",
       "1   Male           0\n",
       "2   Male           0\n",
       "3   Male        <NA>\n",
       "4   Male           2"
      ]
     },
     "execution_count": 153,
     "metadata": {},
     "output_type": "execute_result"
    }
   ],
   "source": [
    "df[['gender', 'dependents']].head()"
   ]
  },
  {
   "cell_type": "code",
   "execution_count": 161,
   "metadata": {},
   "outputs": [],
   "source": [
    "df['dependents'] = df[['gender', 'dependents']].apply(impute_nan_dependents, axis=1)"
   ]
  },
  {
   "cell_type": "code",
   "execution_count": 162,
   "metadata": {},
   "outputs": [
    {
     "data": {
      "text/html": [
       "<div>\n",
       "<style scoped>\n",
       "    .dataframe tbody tr th:only-of-type {\n",
       "        vertical-align: middle;\n",
       "    }\n",
       "\n",
       "    .dataframe tbody tr th {\n",
       "        vertical-align: top;\n",
       "    }\n",
       "\n",
       "    .dataframe thead th {\n",
       "        text-align: right;\n",
       "    }\n",
       "</style>\n",
       "<table border=\"1\" class=\"dataframe\">\n",
       "  <thead>\n",
       "    <tr style=\"text-align: right;\">\n",
       "      <th></th>\n",
       "      <th>gender</th>\n",
       "      <th>dependents</th>\n",
       "    </tr>\n",
       "  </thead>\n",
       "  <tbody>\n",
       "    <tr>\n",
       "      <th>0</th>\n",
       "      <td>Male</td>\n",
       "      <td>0</td>\n",
       "    </tr>\n",
       "    <tr>\n",
       "      <th>1</th>\n",
       "      <td>Male</td>\n",
       "      <td>0</td>\n",
       "    </tr>\n",
       "    <tr>\n",
       "      <th>2</th>\n",
       "      <td>Male</td>\n",
       "      <td>0</td>\n",
       "    </tr>\n",
       "    <tr>\n",
       "      <th>3</th>\n",
       "      <td>Male</td>\n",
       "      <td>1</td>\n",
       "    </tr>\n",
       "    <tr>\n",
       "      <th>4</th>\n",
       "      <td>Male</td>\n",
       "      <td>2</td>\n",
       "    </tr>\n",
       "  </tbody>\n",
       "</table>\n",
       "</div>"
      ],
      "text/plain": [
       "  gender  dependents\n",
       "0   Male           0\n",
       "1   Male           0\n",
       "2   Male           0\n",
       "3   Male           1\n",
       "4   Male           2"
      ]
     },
     "execution_count": 162,
     "metadata": {},
     "output_type": "execute_result"
    }
   ],
   "source": [
    "df[['gender', 'dependents']].head()"
   ]
  },
  {
   "cell_type": "code",
   "execution_count": 171,
   "metadata": {},
   "outputs": [
    {
     "data": {
      "text/plain": [
       "customer_id                          0\n",
       "vintage                              0\n",
       "age                                  0\n",
       "gender                               0\n",
       "dependents                           0\n",
       "occupation                           0\n",
       "city                                 0\n",
       "customer_nw_category                 0\n",
       "branch_code                          0\n",
       "current_balance                      0\n",
       "previous_month_end_balance           0\n",
       "average_monthly_balance_prevQ        0\n",
       "average_monthly_balance_prevQ2       0\n",
       "current_month_credit                 0\n",
       "previous_month_credit                0\n",
       "current_month_debit                  0\n",
       "previous_month_debit                 1\n",
       "current_month_balance                1\n",
       "previous_month_balance               1\n",
       "churn                                1\n",
       "doy_ls_tran                       1812\n",
       "woy_ls_tran                       1812\n",
       "moy_ls_tran                       1812\n",
       "dow_ls_tran                       1812\n",
       "dtype: int64"
      ]
     },
     "execution_count": 171,
     "metadata": {},
     "output_type": "execute_result"
    }
   ],
   "source": [
    "df.isna().sum()"
   ]
  },
  {
   "cell_type": "code",
   "execution_count": 172,
   "metadata": {},
   "outputs": [
    {
     "data": {
      "text/html": [
       "<div>\n",
       "<style scoped>\n",
       "    .dataframe tbody tr th:only-of-type {\n",
       "        vertical-align: middle;\n",
       "    }\n",
       "\n",
       "    .dataframe tbody tr th {\n",
       "        vertical-align: top;\n",
       "    }\n",
       "\n",
       "    .dataframe thead th {\n",
       "        text-align: right;\n",
       "    }\n",
       "</style>\n",
       "<table border=\"1\" class=\"dataframe\">\n",
       "  <thead>\n",
       "    <tr style=\"text-align: right;\">\n",
       "      <th></th>\n",
       "      <th>customer_id</th>\n",
       "      <th>vintage</th>\n",
       "      <th>age</th>\n",
       "      <th>gender</th>\n",
       "      <th>dependents</th>\n",
       "      <th>occupation</th>\n",
       "      <th>city</th>\n",
       "      <th>customer_nw_category</th>\n",
       "      <th>branch_code</th>\n",
       "      <th>current_balance</th>\n",
       "      <th>...</th>\n",
       "      <th>previous_month_credit</th>\n",
       "      <th>current_month_debit</th>\n",
       "      <th>previous_month_debit</th>\n",
       "      <th>current_month_balance</th>\n",
       "      <th>previous_month_balance</th>\n",
       "      <th>churn</th>\n",
       "      <th>doy_ls_tran</th>\n",
       "      <th>woy_ls_tran</th>\n",
       "      <th>moy_ls_tran</th>\n",
       "      <th>dow_ls_tran</th>\n",
       "    </tr>\n",
       "  </thead>\n",
       "  <tbody>\n",
       "    <tr>\n",
       "      <th>15925</th>\n",
       "      <td>16993</td>\n",
       "      <td>2500</td>\n",
       "      <td>64</td>\n",
       "      <td>Female</td>\n",
       "      <td>0</td>\n",
       "      <td>self_employed</td>\n",
       "      <td>409</td>\n",
       "      <td>3</td>\n",
       "      <td>934</td>\n",
       "      <td>309.64</td>\n",
       "      <td>...</td>\n",
       "      <td>46961.44</td>\n",
       "      <td>5148.76</td>\n",
       "      <td>41642.90</td>\n",
       "      <td>2733.69</td>\n",
       "      <td>2340.96</td>\n",
       "      <td>1.0</td>\n",
       "      <td>332.0</td>\n",
       "      <td>48</td>\n",
       "      <td>11.0</td>\n",
       "      <td>3.0</td>\n",
       "    </tr>\n",
       "    <tr>\n",
       "      <th>15926</th>\n",
       "      <td>16994</td>\n",
       "      <td>2470</td>\n",
       "      <td>44</td>\n",
       "      <td>Male</td>\n",
       "      <td>0</td>\n",
       "      <td>salaried</td>\n",
       "      <td>1020</td>\n",
       "      <td>2</td>\n",
       "      <td>15</td>\n",
       "      <td>1049.67</td>\n",
       "      <td>...</td>\n",
       "      <td>966.96</td>\n",
       "      <td>1428.63</td>\n",
       "      <td>5714.34</td>\n",
       "      <td>2100.30</td>\n",
       "      <td>1846.93</td>\n",
       "      <td>1.0</td>\n",
       "      <td>335.0</td>\n",
       "      <td>48</td>\n",
       "      <td>12.0</td>\n",
       "      <td>6.0</td>\n",
       "    </tr>\n",
       "    <tr>\n",
       "      <th>15927</th>\n",
       "      <td>16995</td>\n",
       "      <td>2537</td>\n",
       "      <td>34</td>\n",
       "      <td>Female</td>\n",
       "      <td>1</td>\n",
       "      <td>self_employed</td>\n",
       "      <td>557</td>\n",
       "      <td>2</td>\n",
       "      <td>284</td>\n",
       "      <td>1106.86</td>\n",
       "      <td>...</td>\n",
       "      <td>1714.39</td>\n",
       "      <td>8618.20</td>\n",
       "      <td>1142.96</td>\n",
       "      <td>5726.47</td>\n",
       "      <td>605.49</td>\n",
       "      <td>0.0</td>\n",
       "      <td>341.0</td>\n",
       "      <td>49</td>\n",
       "      <td>12.0</td>\n",
       "      <td>5.0</td>\n",
       "    </tr>\n",
       "    <tr>\n",
       "      <th>15928</th>\n",
       "      <td>16996</td>\n",
       "      <td>2287</td>\n",
       "      <td>56</td>\n",
       "      <td>Female</td>\n",
       "      <td>0</td>\n",
       "      <td>self_employed</td>\n",
       "      <td>1540</td>\n",
       "      <td>2</td>\n",
       "      <td>670</td>\n",
       "      <td>2098.29</td>\n",
       "      <td>...</td>\n",
       "      <td>0.26</td>\n",
       "      <td>143.11</td>\n",
       "      <td>314.54</td>\n",
       "      <td>2132.49</td>\n",
       "      <td>2083.49</td>\n",
       "      <td>0.0</td>\n",
       "      <td>341.0</td>\n",
       "      <td>49</td>\n",
       "      <td>12.0</td>\n",
       "      <td>5.0</td>\n",
       "    </tr>\n",
       "    <tr>\n",
       "      <th>15929</th>\n",
       "      <td>16997</td>\n",
       "      <td>2656</td>\n",
       "      <td>70</td>\n",
       "      <td>Male</td>\n",
       "      <td>0</td>\n",
       "      <td>self_employed</td>\n",
       "      <td>1096</td>\n",
       "      <td>2</td>\n",
       "      <td>134</td>\n",
       "      <td>18530.60</td>\n",
       "      <td>...</td>\n",
       "      <td>156.55</td>\n",
       "      <td>0.19</td>\n",
       "      <td>NaN</td>\n",
       "      <td>NaN</td>\n",
       "      <td>NaN</td>\n",
       "      <td>NaN</td>\n",
       "      <td>NaN</td>\n",
       "      <td>&lt;NA&gt;</td>\n",
       "      <td>NaN</td>\n",
       "      <td>NaN</td>\n",
       "    </tr>\n",
       "  </tbody>\n",
       "</table>\n",
       "<p>5 rows × 24 columns</p>\n",
       "</div>"
      ],
      "text/plain": [
       "       customer_id  vintage  age  gender  dependents     occupation  city  \\\n",
       "15925        16993     2500   64  Female           0  self_employed   409   \n",
       "15926        16994     2470   44    Male           0       salaried  1020   \n",
       "15927        16995     2537   34  Female           1  self_employed   557   \n",
       "15928        16996     2287   56  Female           0  self_employed  1540   \n",
       "15929        16997     2656   70    Male           0  self_employed  1096   \n",
       "\n",
       "      customer_nw_category branch_code  current_balance  ...  \\\n",
       "15925                    3         934           309.64  ...   \n",
       "15926                    2          15          1049.67  ...   \n",
       "15927                    2         284          1106.86  ...   \n",
       "15928                    2         670          2098.29  ...   \n",
       "15929                    2         134         18530.60  ...   \n",
       "\n",
       "       previous_month_credit  current_month_debit  previous_month_debit  \\\n",
       "15925               46961.44              5148.76              41642.90   \n",
       "15926                 966.96              1428.63               5714.34   \n",
       "15927                1714.39              8618.20               1142.96   \n",
       "15928                   0.26               143.11                314.54   \n",
       "15929                 156.55                 0.19                   NaN   \n",
       "\n",
       "       current_month_balance  previous_month_balance  churn  doy_ls_tran  \\\n",
       "15925                2733.69                 2340.96    1.0        332.0   \n",
       "15926                2100.30                 1846.93    1.0        335.0   \n",
       "15927                5726.47                  605.49    0.0        341.0   \n",
       "15928                2132.49                 2083.49    0.0        341.0   \n",
       "15929                    NaN                     NaN    NaN          NaN   \n",
       "\n",
       "       woy_ls_tran  moy_ls_tran dow_ls_tran  \n",
       "15925           48         11.0         3.0  \n",
       "15926           48         12.0         6.0  \n",
       "15927           49         12.0         5.0  \n",
       "15928           49         12.0         5.0  \n",
       "15929         <NA>          NaN         NaN  \n",
       "\n",
       "[5 rows x 24 columns]"
      ]
     },
     "execution_count": 172,
     "metadata": {},
     "output_type": "execute_result"
    }
   ],
   "source": [
    "df.tail()"
   ]
  },
  {
   "cell_type": "code",
   "execution_count": 175,
   "metadata": {},
   "outputs": [],
   "source": [
    "df.drop('customer_id', axis=1, inplace=True)  # dropping the customer_id col"
   ]
  },
  {
   "cell_type": "code",
   "execution_count": 177,
   "metadata": {},
   "outputs": [
    {
     "data": {
      "text/html": [
       "<div>\n",
       "<style scoped>\n",
       "    .dataframe tbody tr th:only-of-type {\n",
       "        vertical-align: middle;\n",
       "    }\n",
       "\n",
       "    .dataframe tbody tr th {\n",
       "        vertical-align: top;\n",
       "    }\n",
       "\n",
       "    .dataframe thead th {\n",
       "        text-align: right;\n",
       "    }\n",
       "</style>\n",
       "<table border=\"1\" class=\"dataframe\">\n",
       "  <thead>\n",
       "    <tr style=\"text-align: right;\">\n",
       "      <th></th>\n",
       "      <th>vintage</th>\n",
       "      <th>age</th>\n",
       "      <th>gender</th>\n",
       "      <th>dependents</th>\n",
       "      <th>occupation</th>\n",
       "      <th>city</th>\n",
       "      <th>customer_nw_category</th>\n",
       "      <th>branch_code</th>\n",
       "      <th>current_balance</th>\n",
       "      <th>previous_month_end_balance</th>\n",
       "      <th>...</th>\n",
       "      <th>previous_month_credit</th>\n",
       "      <th>current_month_debit</th>\n",
       "      <th>previous_month_debit</th>\n",
       "      <th>current_month_balance</th>\n",
       "      <th>previous_month_balance</th>\n",
       "      <th>churn</th>\n",
       "      <th>doy_ls_tran</th>\n",
       "      <th>woy_ls_tran</th>\n",
       "      <th>moy_ls_tran</th>\n",
       "      <th>dow_ls_tran</th>\n",
       "    </tr>\n",
       "  </thead>\n",
       "  <tbody>\n",
       "    <tr>\n",
       "      <th>0</th>\n",
       "      <td>2401</td>\n",
       "      <td>66</td>\n",
       "      <td>Male</td>\n",
       "      <td>0</td>\n",
       "      <td>self_employed</td>\n",
       "      <td>187</td>\n",
       "      <td>2</td>\n",
       "      <td>755</td>\n",
       "      <td>1458.71</td>\n",
       "      <td>1458.71</td>\n",
       "      <td>...</td>\n",
       "      <td>0.20</td>\n",
       "      <td>0.20</td>\n",
       "      <td>0.20</td>\n",
       "      <td>1458.71</td>\n",
       "      <td>1458.71</td>\n",
       "      <td>0.0</td>\n",
       "      <td>141.0</td>\n",
       "      <td>21</td>\n",
       "      <td>5.0</td>\n",
       "      <td>1.0</td>\n",
       "    </tr>\n",
       "    <tr>\n",
       "      <th>1</th>\n",
       "      <td>2648</td>\n",
       "      <td>35</td>\n",
       "      <td>Male</td>\n",
       "      <td>0</td>\n",
       "      <td>self_employed</td>\n",
       "      <td>100000</td>\n",
       "      <td>2</td>\n",
       "      <td>3214</td>\n",
       "      <td>5390.37</td>\n",
       "      <td>8704.66</td>\n",
       "      <td>...</td>\n",
       "      <td>0.56</td>\n",
       "      <td>5486.27</td>\n",
       "      <td>100.56</td>\n",
       "      <td>6496.78</td>\n",
       "      <td>8787.61</td>\n",
       "      <td>0.0</td>\n",
       "      <td>305.0</td>\n",
       "      <td>44</td>\n",
       "      <td>11.0</td>\n",
       "      <td>4.0</td>\n",
       "    </tr>\n",
       "    <tr>\n",
       "      <th>2</th>\n",
       "      <td>2494</td>\n",
       "      <td>31</td>\n",
       "      <td>Male</td>\n",
       "      <td>0</td>\n",
       "      <td>salaried</td>\n",
       "      <td>146</td>\n",
       "      <td>2</td>\n",
       "      <td>41</td>\n",
       "      <td>3913.16</td>\n",
       "      <td>5815.29</td>\n",
       "      <td>...</td>\n",
       "      <td>0.61</td>\n",
       "      <td>6046.73</td>\n",
       "      <td>259.23</td>\n",
       "      <td>5006.28</td>\n",
       "      <td>5070.14</td>\n",
       "      <td>0.0</td>\n",
       "      <td>NaN</td>\n",
       "      <td>&lt;NA&gt;</td>\n",
       "      <td>NaN</td>\n",
       "      <td>NaN</td>\n",
       "    </tr>\n",
       "    <tr>\n",
       "      <th>3</th>\n",
       "      <td>2629</td>\n",
       "      <td>90</td>\n",
       "      <td>Male</td>\n",
       "      <td>1</td>\n",
       "      <td>self_employed</td>\n",
       "      <td>1020</td>\n",
       "      <td>2</td>\n",
       "      <td>582</td>\n",
       "      <td>2291.91</td>\n",
       "      <td>2291.91</td>\n",
       "      <td>...</td>\n",
       "      <td>0.47</td>\n",
       "      <td>0.47</td>\n",
       "      <td>2143.33</td>\n",
       "      <td>2291.91</td>\n",
       "      <td>1669.79</td>\n",
       "      <td>1.0</td>\n",
       "      <td>218.0</td>\n",
       "      <td>32</td>\n",
       "      <td>8.0</td>\n",
       "      <td>1.0</td>\n",
       "    </tr>\n",
       "    <tr>\n",
       "      <th>4</th>\n",
       "      <td>1879</td>\n",
       "      <td>42</td>\n",
       "      <td>Male</td>\n",
       "      <td>2</td>\n",
       "      <td>self_employed</td>\n",
       "      <td>1494</td>\n",
       "      <td>3</td>\n",
       "      <td>388</td>\n",
       "      <td>927.72</td>\n",
       "      <td>1401.72</td>\n",
       "      <td>...</td>\n",
       "      <td>714.61</td>\n",
       "      <td>588.62</td>\n",
       "      <td>1538.06</td>\n",
       "      <td>1157.15</td>\n",
       "      <td>1677.16</td>\n",
       "      <td>1.0</td>\n",
       "      <td>307.0</td>\n",
       "      <td>44</td>\n",
       "      <td>11.0</td>\n",
       "      <td>6.0</td>\n",
       "    </tr>\n",
       "  </tbody>\n",
       "</table>\n",
       "<p>5 rows × 23 columns</p>\n",
       "</div>"
      ],
      "text/plain": [
       "   vintage  age gender  dependents     occupation    city  \\\n",
       "0     2401   66   Male           0  self_employed     187   \n",
       "1     2648   35   Male           0  self_employed  100000   \n",
       "2     2494   31   Male           0       salaried     146   \n",
       "3     2629   90   Male           1  self_employed    1020   \n",
       "4     1879   42   Male           2  self_employed    1494   \n",
       "\n",
       "  customer_nw_category branch_code  current_balance  \\\n",
       "0                    2         755          1458.71   \n",
       "1                    2        3214          5390.37   \n",
       "2                    2          41          3913.16   \n",
       "3                    2         582          2291.91   \n",
       "4                    3         388           927.72   \n",
       "\n",
       "   previous_month_end_balance  ...  previous_month_credit  \\\n",
       "0                     1458.71  ...                   0.20   \n",
       "1                     8704.66  ...                   0.56   \n",
       "2                     5815.29  ...                   0.61   \n",
       "3                     2291.91  ...                   0.47   \n",
       "4                     1401.72  ...                 714.61   \n",
       "\n",
       "   current_month_debit  previous_month_debit  current_month_balance  \\\n",
       "0                 0.20                  0.20                1458.71   \n",
       "1              5486.27                100.56                6496.78   \n",
       "2              6046.73                259.23                5006.28   \n",
       "3                 0.47               2143.33                2291.91   \n",
       "4               588.62               1538.06                1157.15   \n",
       "\n",
       "   previous_month_balance  churn  doy_ls_tran  woy_ls_tran moy_ls_tran  \\\n",
       "0                 1458.71    0.0        141.0           21         5.0   \n",
       "1                 8787.61    0.0        305.0           44        11.0   \n",
       "2                 5070.14    0.0          NaN         <NA>         NaN   \n",
       "3                 1669.79    1.0        218.0           32         8.0   \n",
       "4                 1677.16    1.0        307.0           44        11.0   \n",
       "\n",
       "   dow_ls_tran  \n",
       "0          1.0  \n",
       "1          4.0  \n",
       "2          NaN  \n",
       "3          1.0  \n",
       "4          6.0  \n",
       "\n",
       "[5 rows x 23 columns]"
      ]
     },
     "execution_count": 177,
     "metadata": {},
     "output_type": "execute_result"
    }
   ],
   "source": [
    "df.head()"
   ]
  },
  {
   "cell_type": "code",
   "execution_count": 179,
   "metadata": {},
   "outputs": [
    {
     "data": {
      "text/html": [
       "<div>\n",
       "<style scoped>\n",
       "    .dataframe tbody tr th:only-of-type {\n",
       "        vertical-align: middle;\n",
       "    }\n",
       "\n",
       "    .dataframe tbody tr th {\n",
       "        vertical-align: top;\n",
       "    }\n",
       "\n",
       "    .dataframe thead th {\n",
       "        text-align: right;\n",
       "    }\n",
       "</style>\n",
       "<table border=\"1\" class=\"dataframe\">\n",
       "  <thead>\n",
       "    <tr style=\"text-align: right;\">\n",
       "      <th></th>\n",
       "      <th>vintage</th>\n",
       "      <th>age</th>\n",
       "      <th>gender</th>\n",
       "      <th>dependents</th>\n",
       "      <th>occupation</th>\n",
       "      <th>city</th>\n",
       "      <th>customer_nw_category</th>\n",
       "      <th>branch_code</th>\n",
       "      <th>current_balance</th>\n",
       "      <th>previous_month_end_balance</th>\n",
       "      <th>...</th>\n",
       "      <th>previous_month_credit</th>\n",
       "      <th>current_month_debit</th>\n",
       "      <th>previous_month_debit</th>\n",
       "      <th>current_month_balance</th>\n",
       "      <th>previous_month_balance</th>\n",
       "      <th>churn</th>\n",
       "      <th>doy_ls_tran</th>\n",
       "      <th>woy_ls_tran</th>\n",
       "      <th>moy_ls_tran</th>\n",
       "      <th>dow_ls_tran</th>\n",
       "    </tr>\n",
       "  </thead>\n",
       "  <tbody>\n",
       "    <tr>\n",
       "      <th>15929</th>\n",
       "      <td>2656</td>\n",
       "      <td>70</td>\n",
       "      <td>Male</td>\n",
       "      <td>0</td>\n",
       "      <td>self_employed</td>\n",
       "      <td>1096</td>\n",
       "      <td>2</td>\n",
       "      <td>134</td>\n",
       "      <td>18530.6</td>\n",
       "      <td>18222.58</td>\n",
       "      <td>...</td>\n",
       "      <td>156.55</td>\n",
       "      <td>0.19</td>\n",
       "      <td>NaN</td>\n",
       "      <td>NaN</td>\n",
       "      <td>NaN</td>\n",
       "      <td>NaN</td>\n",
       "      <td>NaN</td>\n",
       "      <td>&lt;NA&gt;</td>\n",
       "      <td>NaN</td>\n",
       "      <td>NaN</td>\n",
       "    </tr>\n",
       "  </tbody>\n",
       "</table>\n",
       "<p>1 rows × 23 columns</p>\n",
       "</div>"
      ],
      "text/plain": [
       "       vintage  age gender  dependents     occupation  city  \\\n",
       "15929     2656   70   Male           0  self_employed  1096   \n",
       "\n",
       "      customer_nw_category branch_code  current_balance  \\\n",
       "15929                    2         134          18530.6   \n",
       "\n",
       "       previous_month_end_balance  ...  previous_month_credit  \\\n",
       "15929                    18222.58  ...                 156.55   \n",
       "\n",
       "       current_month_debit  previous_month_debit  current_month_balance  \\\n",
       "15929                 0.19                   NaN                    NaN   \n",
       "\n",
       "       previous_month_balance  churn  doy_ls_tran  woy_ls_tran moy_ls_tran  \\\n",
       "15929                     NaN    NaN          NaN         <NA>         NaN   \n",
       "\n",
       "       dow_ls_tran  \n",
       "15929          NaN  \n",
       "\n",
       "[1 rows x 23 columns]"
      ]
     },
     "execution_count": 179,
     "metadata": {},
     "output_type": "execute_result"
    }
   ],
   "source": [
    "df[df.churn.isnull()]"
   ]
  },
  {
   "cell_type": "code",
   "execution_count": 181,
   "metadata": {},
   "outputs": [
    {
     "data": {
      "text/plain": [
       "15929"
      ]
     },
     "execution_count": 181,
     "metadata": {},
     "output_type": "execute_result"
    }
   ],
   "source": [
    "df[df.churn.isnull()].index[0]"
   ]
  },
  {
   "cell_type": "code",
   "execution_count": 184,
   "metadata": {},
   "outputs": [],
   "source": [
    "df.drop(df[df.churn.isnull()].index[0], axis=0, inplace=True) "
   ]
  },
  {
   "cell_type": "code",
   "execution_count": 185,
   "metadata": {},
   "outputs": [
    {
     "data": {
      "text/html": [
       "<div>\n",
       "<style scoped>\n",
       "    .dataframe tbody tr th:only-of-type {\n",
       "        vertical-align: middle;\n",
       "    }\n",
       "\n",
       "    .dataframe tbody tr th {\n",
       "        vertical-align: top;\n",
       "    }\n",
       "\n",
       "    .dataframe thead th {\n",
       "        text-align: right;\n",
       "    }\n",
       "</style>\n",
       "<table border=\"1\" class=\"dataframe\">\n",
       "  <thead>\n",
       "    <tr style=\"text-align: right;\">\n",
       "      <th></th>\n",
       "      <th>vintage</th>\n",
       "      <th>age</th>\n",
       "      <th>gender</th>\n",
       "      <th>dependents</th>\n",
       "      <th>occupation</th>\n",
       "      <th>city</th>\n",
       "      <th>customer_nw_category</th>\n",
       "      <th>branch_code</th>\n",
       "      <th>current_balance</th>\n",
       "      <th>previous_month_end_balance</th>\n",
       "      <th>...</th>\n",
       "      <th>previous_month_credit</th>\n",
       "      <th>current_month_debit</th>\n",
       "      <th>previous_month_debit</th>\n",
       "      <th>current_month_balance</th>\n",
       "      <th>previous_month_balance</th>\n",
       "      <th>churn</th>\n",
       "      <th>doy_ls_tran</th>\n",
       "      <th>woy_ls_tran</th>\n",
       "      <th>moy_ls_tran</th>\n",
       "      <th>dow_ls_tran</th>\n",
       "    </tr>\n",
       "  </thead>\n",
       "  <tbody>\n",
       "    <tr>\n",
       "      <th>15924</th>\n",
       "      <td>2175</td>\n",
       "      <td>40</td>\n",
       "      <td>Male</td>\n",
       "      <td>0</td>\n",
       "      <td>salaried</td>\n",
       "      <td>698</td>\n",
       "      <td>2</td>\n",
       "      <td>231</td>\n",
       "      <td>9996.84</td>\n",
       "      <td>10032.93</td>\n",
       "      <td>...</td>\n",
       "      <td>9923.99</td>\n",
       "      <td>0.10</td>\n",
       "      <td>0.10</td>\n",
       "      <td>10009.28</td>\n",
       "      <td>7483.44</td>\n",
       "      <td>0.0</td>\n",
       "      <td>314.0</td>\n",
       "      <td>45</td>\n",
       "      <td>11.0</td>\n",
       "      <td>6.0</td>\n",
       "    </tr>\n",
       "    <tr>\n",
       "      <th>15925</th>\n",
       "      <td>2500</td>\n",
       "      <td>64</td>\n",
       "      <td>Female</td>\n",
       "      <td>0</td>\n",
       "      <td>self_employed</td>\n",
       "      <td>409</td>\n",
       "      <td>3</td>\n",
       "      <td>934</td>\n",
       "      <td>309.64</td>\n",
       "      <td>5458.35</td>\n",
       "      <td>...</td>\n",
       "      <td>46961.44</td>\n",
       "      <td>5148.76</td>\n",
       "      <td>41642.90</td>\n",
       "      <td>2733.69</td>\n",
       "      <td>2340.96</td>\n",
       "      <td>1.0</td>\n",
       "      <td>332.0</td>\n",
       "      <td>48</td>\n",
       "      <td>11.0</td>\n",
       "      <td>3.0</td>\n",
       "    </tr>\n",
       "    <tr>\n",
       "      <th>15926</th>\n",
       "      <td>2470</td>\n",
       "      <td>44</td>\n",
       "      <td>Male</td>\n",
       "      <td>0</td>\n",
       "      <td>salaried</td>\n",
       "      <td>1020</td>\n",
       "      <td>2</td>\n",
       "      <td>15</td>\n",
       "      <td>1049.67</td>\n",
       "      <td>2716.22</td>\n",
       "      <td>...</td>\n",
       "      <td>966.96</td>\n",
       "      <td>1428.63</td>\n",
       "      <td>5714.34</td>\n",
       "      <td>2100.30</td>\n",
       "      <td>1846.93</td>\n",
       "      <td>1.0</td>\n",
       "      <td>335.0</td>\n",
       "      <td>48</td>\n",
       "      <td>12.0</td>\n",
       "      <td>6.0</td>\n",
       "    </tr>\n",
       "    <tr>\n",
       "      <th>15927</th>\n",
       "      <td>2537</td>\n",
       "      <td>34</td>\n",
       "      <td>Female</td>\n",
       "      <td>1</td>\n",
       "      <td>self_employed</td>\n",
       "      <td>557</td>\n",
       "      <td>2</td>\n",
       "      <td>284</td>\n",
       "      <td>1106.86</td>\n",
       "      <td>992.59</td>\n",
       "      <td>...</td>\n",
       "      <td>1714.39</td>\n",
       "      <td>8618.20</td>\n",
       "      <td>1142.96</td>\n",
       "      <td>5726.47</td>\n",
       "      <td>605.49</td>\n",
       "      <td>0.0</td>\n",
       "      <td>341.0</td>\n",
       "      <td>49</td>\n",
       "      <td>12.0</td>\n",
       "      <td>5.0</td>\n",
       "    </tr>\n",
       "    <tr>\n",
       "      <th>15928</th>\n",
       "      <td>2287</td>\n",
       "      <td>56</td>\n",
       "      <td>Female</td>\n",
       "      <td>0</td>\n",
       "      <td>self_employed</td>\n",
       "      <td>1540</td>\n",
       "      <td>2</td>\n",
       "      <td>670</td>\n",
       "      <td>2098.29</td>\n",
       "      <td>1879.26</td>\n",
       "      <td>...</td>\n",
       "      <td>0.26</td>\n",
       "      <td>143.11</td>\n",
       "      <td>314.54</td>\n",
       "      <td>2132.49</td>\n",
       "      <td>2083.49</td>\n",
       "      <td>0.0</td>\n",
       "      <td>341.0</td>\n",
       "      <td>49</td>\n",
       "      <td>12.0</td>\n",
       "      <td>5.0</td>\n",
       "    </tr>\n",
       "  </tbody>\n",
       "</table>\n",
       "<p>5 rows × 23 columns</p>\n",
       "</div>"
      ],
      "text/plain": [
       "       vintage  age  gender  dependents     occupation  city  \\\n",
       "15924     2175   40    Male           0       salaried   698   \n",
       "15925     2500   64  Female           0  self_employed   409   \n",
       "15926     2470   44    Male           0       salaried  1020   \n",
       "15927     2537   34  Female           1  self_employed   557   \n",
       "15928     2287   56  Female           0  self_employed  1540   \n",
       "\n",
       "      customer_nw_category branch_code  current_balance  \\\n",
       "15924                    2         231          9996.84   \n",
       "15925                    3         934           309.64   \n",
       "15926                    2          15          1049.67   \n",
       "15927                    2         284          1106.86   \n",
       "15928                    2         670          2098.29   \n",
       "\n",
       "       previous_month_end_balance  ...  previous_month_credit  \\\n",
       "15924                    10032.93  ...                9923.99   \n",
       "15925                     5458.35  ...               46961.44   \n",
       "15926                     2716.22  ...                 966.96   \n",
       "15927                      992.59  ...                1714.39   \n",
       "15928                     1879.26  ...                   0.26   \n",
       "\n",
       "       current_month_debit  previous_month_debit  current_month_balance  \\\n",
       "15924                 0.10                  0.10               10009.28   \n",
       "15925              5148.76              41642.90                2733.69   \n",
       "15926              1428.63               5714.34                2100.30   \n",
       "15927              8618.20               1142.96                5726.47   \n",
       "15928               143.11                314.54                2132.49   \n",
       "\n",
       "       previous_month_balance  churn  doy_ls_tran  woy_ls_tran moy_ls_tran  \\\n",
       "15924                 7483.44    0.0        314.0           45        11.0   \n",
       "15925                 2340.96    1.0        332.0           48        11.0   \n",
       "15926                 1846.93    1.0        335.0           48        12.0   \n",
       "15927                  605.49    0.0        341.0           49        12.0   \n",
       "15928                 2083.49    0.0        341.0           49        12.0   \n",
       "\n",
       "       dow_ls_tran  \n",
       "15924          6.0  \n",
       "15925          3.0  \n",
       "15926          6.0  \n",
       "15927          5.0  \n",
       "15928          5.0  \n",
       "\n",
       "[5 rows x 23 columns]"
      ]
     },
     "execution_count": 185,
     "metadata": {},
     "output_type": "execute_result"
    }
   ],
   "source": [
    "df.tail()"
   ]
  },
  {
   "cell_type": "code",
   "execution_count": 186,
   "metadata": {},
   "outputs": [
    {
     "data": {
      "text/plain": [
       "vintage                              0\n",
       "age                                  0\n",
       "gender                               0\n",
       "dependents                           0\n",
       "occupation                           0\n",
       "city                                 0\n",
       "customer_nw_category                 0\n",
       "branch_code                          0\n",
       "current_balance                      0\n",
       "previous_month_end_balance           0\n",
       "average_monthly_balance_prevQ        0\n",
       "average_monthly_balance_prevQ2       0\n",
       "current_month_credit                 0\n",
       "previous_month_credit                0\n",
       "current_month_debit                  0\n",
       "previous_month_debit                 0\n",
       "current_month_balance                0\n",
       "previous_month_balance               0\n",
       "churn                                0\n",
       "doy_ls_tran                       1811\n",
       "woy_ls_tran                       1811\n",
       "moy_ls_tran                       1811\n",
       "dow_ls_tran                       1811\n",
       "dtype: int64"
      ]
     },
     "execution_count": 186,
     "metadata": {},
     "output_type": "execute_result"
    }
   ],
   "source": [
    "df.isna().sum()"
   ]
  },
  {
   "cell_type": "code",
   "execution_count": 187,
   "metadata": {},
   "outputs": [],
   "source": [
    "df.to_pickle(\"churn_prediction_v2.pkl\")"
   ]
  },
  {
   "cell_type": "code",
   "execution_count": 188,
   "metadata": {},
   "outputs": [],
   "source": [
    "df.drop(['gender', 'dependents'], axis=1, inplace=True)"
   ]
  },
  {
   "cell_type": "code",
   "execution_count": 190,
   "metadata": {},
   "outputs": [
    {
     "data": {
      "text/html": [
       "<div>\n",
       "<style scoped>\n",
       "    .dataframe tbody tr th:only-of-type {\n",
       "        vertical-align: middle;\n",
       "    }\n",
       "\n",
       "    .dataframe tbody tr th {\n",
       "        vertical-align: top;\n",
       "    }\n",
       "\n",
       "    .dataframe thead th {\n",
       "        text-align: right;\n",
       "    }\n",
       "</style>\n",
       "<table border=\"1\" class=\"dataframe\">\n",
       "  <thead>\n",
       "    <tr style=\"text-align: right;\">\n",
       "      <th></th>\n",
       "      <th>vintage</th>\n",
       "      <th>age</th>\n",
       "      <th>occupation</th>\n",
       "      <th>city</th>\n",
       "      <th>customer_nw_category</th>\n",
       "      <th>branch_code</th>\n",
       "      <th>current_balance</th>\n",
       "      <th>previous_month_end_balance</th>\n",
       "      <th>average_monthly_balance_prevQ</th>\n",
       "      <th>average_monthly_balance_prevQ2</th>\n",
       "      <th>...</th>\n",
       "      <th>previous_month_credit</th>\n",
       "      <th>current_month_debit</th>\n",
       "      <th>previous_month_debit</th>\n",
       "      <th>current_month_balance</th>\n",
       "      <th>previous_month_balance</th>\n",
       "      <th>churn</th>\n",
       "      <th>doy_ls_tran</th>\n",
       "      <th>woy_ls_tran</th>\n",
       "      <th>moy_ls_tran</th>\n",
       "      <th>dow_ls_tran</th>\n",
       "    </tr>\n",
       "  </thead>\n",
       "  <tbody>\n",
       "    <tr>\n",
       "      <th>0</th>\n",
       "      <td>2401</td>\n",
       "      <td>66</td>\n",
       "      <td>self_employed</td>\n",
       "      <td>187</td>\n",
       "      <td>2</td>\n",
       "      <td>755</td>\n",
       "      <td>1458.71</td>\n",
       "      <td>1458.71</td>\n",
       "      <td>1458.71</td>\n",
       "      <td>1449.07</td>\n",
       "      <td>...</td>\n",
       "      <td>0.20</td>\n",
       "      <td>0.20</td>\n",
       "      <td>0.20</td>\n",
       "      <td>1458.71</td>\n",
       "      <td>1458.71</td>\n",
       "      <td>0.0</td>\n",
       "      <td>141.0</td>\n",
       "      <td>21</td>\n",
       "      <td>5.0</td>\n",
       "      <td>1.0</td>\n",
       "    </tr>\n",
       "    <tr>\n",
       "      <th>1</th>\n",
       "      <td>2648</td>\n",
       "      <td>35</td>\n",
       "      <td>self_employed</td>\n",
       "      <td>100000</td>\n",
       "      <td>2</td>\n",
       "      <td>3214</td>\n",
       "      <td>5390.37</td>\n",
       "      <td>8704.66</td>\n",
       "      <td>7799.26</td>\n",
       "      <td>12419.41</td>\n",
       "      <td>...</td>\n",
       "      <td>0.56</td>\n",
       "      <td>5486.27</td>\n",
       "      <td>100.56</td>\n",
       "      <td>6496.78</td>\n",
       "      <td>8787.61</td>\n",
       "      <td>0.0</td>\n",
       "      <td>305.0</td>\n",
       "      <td>44</td>\n",
       "      <td>11.0</td>\n",
       "      <td>4.0</td>\n",
       "    </tr>\n",
       "    <tr>\n",
       "      <th>2</th>\n",
       "      <td>2494</td>\n",
       "      <td>31</td>\n",
       "      <td>salaried</td>\n",
       "      <td>146</td>\n",
       "      <td>2</td>\n",
       "      <td>41</td>\n",
       "      <td>3913.16</td>\n",
       "      <td>5815.29</td>\n",
       "      <td>4910.17</td>\n",
       "      <td>2815.94</td>\n",
       "      <td>...</td>\n",
       "      <td>0.61</td>\n",
       "      <td>6046.73</td>\n",
       "      <td>259.23</td>\n",
       "      <td>5006.28</td>\n",
       "      <td>5070.14</td>\n",
       "      <td>0.0</td>\n",
       "      <td>NaN</td>\n",
       "      <td>&lt;NA&gt;</td>\n",
       "      <td>NaN</td>\n",
       "      <td>NaN</td>\n",
       "    </tr>\n",
       "    <tr>\n",
       "      <th>3</th>\n",
       "      <td>2629</td>\n",
       "      <td>90</td>\n",
       "      <td>self_employed</td>\n",
       "      <td>1020</td>\n",
       "      <td>2</td>\n",
       "      <td>582</td>\n",
       "      <td>2291.91</td>\n",
       "      <td>2291.91</td>\n",
       "      <td>2084.54</td>\n",
       "      <td>1006.54</td>\n",
       "      <td>...</td>\n",
       "      <td>0.47</td>\n",
       "      <td>0.47</td>\n",
       "      <td>2143.33</td>\n",
       "      <td>2291.91</td>\n",
       "      <td>1669.79</td>\n",
       "      <td>1.0</td>\n",
       "      <td>218.0</td>\n",
       "      <td>32</td>\n",
       "      <td>8.0</td>\n",
       "      <td>1.0</td>\n",
       "    </tr>\n",
       "    <tr>\n",
       "      <th>4</th>\n",
       "      <td>1879</td>\n",
       "      <td>42</td>\n",
       "      <td>self_employed</td>\n",
       "      <td>1494</td>\n",
       "      <td>3</td>\n",
       "      <td>388</td>\n",
       "      <td>927.72</td>\n",
       "      <td>1401.72</td>\n",
       "      <td>1643.31</td>\n",
       "      <td>1871.12</td>\n",
       "      <td>...</td>\n",
       "      <td>714.61</td>\n",
       "      <td>588.62</td>\n",
       "      <td>1538.06</td>\n",
       "      <td>1157.15</td>\n",
       "      <td>1677.16</td>\n",
       "      <td>1.0</td>\n",
       "      <td>307.0</td>\n",
       "      <td>44</td>\n",
       "      <td>11.0</td>\n",
       "      <td>6.0</td>\n",
       "    </tr>\n",
       "  </tbody>\n",
       "</table>\n",
       "<p>5 rows × 21 columns</p>\n",
       "</div>"
      ],
      "text/plain": [
       "   vintage  age     occupation    city customer_nw_category branch_code  \\\n",
       "0     2401   66  self_employed     187                    2         755   \n",
       "1     2648   35  self_employed  100000                    2        3214   \n",
       "2     2494   31       salaried     146                    2          41   \n",
       "3     2629   90  self_employed    1020                    2         582   \n",
       "4     1879   42  self_employed    1494                    3         388   \n",
       "\n",
       "   current_balance  previous_month_end_balance  average_monthly_balance_prevQ  \\\n",
       "0          1458.71                     1458.71                        1458.71   \n",
       "1          5390.37                     8704.66                        7799.26   \n",
       "2          3913.16                     5815.29                        4910.17   \n",
       "3          2291.91                     2291.91                        2084.54   \n",
       "4           927.72                     1401.72                        1643.31   \n",
       "\n",
       "   average_monthly_balance_prevQ2  ...  previous_month_credit  \\\n",
       "0                         1449.07  ...                   0.20   \n",
       "1                        12419.41  ...                   0.56   \n",
       "2                         2815.94  ...                   0.61   \n",
       "3                         1006.54  ...                   0.47   \n",
       "4                         1871.12  ...                 714.61   \n",
       "\n",
       "   current_month_debit  previous_month_debit  current_month_balance  \\\n",
       "0                 0.20                  0.20                1458.71   \n",
       "1              5486.27                100.56                6496.78   \n",
       "2              6046.73                259.23                5006.28   \n",
       "3                 0.47               2143.33                2291.91   \n",
       "4               588.62               1538.06                1157.15   \n",
       "\n",
       "   previous_month_balance  churn doy_ls_tran  woy_ls_tran  moy_ls_tran  \\\n",
       "0                 1458.71    0.0       141.0           21          5.0   \n",
       "1                 8787.61    0.0       305.0           44         11.0   \n",
       "2                 5070.14    0.0         NaN         <NA>          NaN   \n",
       "3                 1669.79    1.0       218.0           32          8.0   \n",
       "4                 1677.16    1.0       307.0           44         11.0   \n",
       "\n",
       "   dow_ls_tran  \n",
       "0          1.0  \n",
       "1          4.0  \n",
       "2          NaN  \n",
       "3          1.0  \n",
       "4          6.0  \n",
       "\n",
       "[5 rows x 21 columns]"
      ]
     },
     "execution_count": 190,
     "metadata": {},
     "output_type": "execute_result"
    }
   ],
   "source": [
    "df.head()"
   ]
  },
  {
   "cell_type": "code",
   "execution_count": 192,
   "metadata": {},
   "outputs": [
    {
     "data": {
      "text/html": [
       "<div>\n",
       "<style scoped>\n",
       "    .dataframe tbody tr th:only-of-type {\n",
       "        vertical-align: middle;\n",
       "    }\n",
       "\n",
       "    .dataframe tbody tr th {\n",
       "        vertical-align: top;\n",
       "    }\n",
       "\n",
       "    .dataframe thead th {\n",
       "        text-align: right;\n",
       "    }\n",
       "</style>\n",
       "<table border=\"1\" class=\"dataframe\">\n",
       "  <thead>\n",
       "    <tr style=\"text-align: right;\">\n",
       "      <th></th>\n",
       "      <th>vintage</th>\n",
       "      <th>age</th>\n",
       "      <th>gender</th>\n",
       "      <th>dependents</th>\n",
       "      <th>occupation</th>\n",
       "      <th>city</th>\n",
       "      <th>customer_nw_category</th>\n",
       "      <th>branch_code</th>\n",
       "      <th>current_balance</th>\n",
       "      <th>previous_month_end_balance</th>\n",
       "      <th>...</th>\n",
       "      <th>previous_month_credit</th>\n",
       "      <th>current_month_debit</th>\n",
       "      <th>previous_month_debit</th>\n",
       "      <th>current_month_balance</th>\n",
       "      <th>previous_month_balance</th>\n",
       "      <th>churn</th>\n",
       "      <th>doy_ls_tran</th>\n",
       "      <th>woy_ls_tran</th>\n",
       "      <th>moy_ls_tran</th>\n",
       "      <th>dow_ls_tran</th>\n",
       "    </tr>\n",
       "  </thead>\n",
       "  <tbody>\n",
       "    <tr>\n",
       "      <th>0</th>\n",
       "      <td>2401</td>\n",
       "      <td>66</td>\n",
       "      <td>Male</td>\n",
       "      <td>0</td>\n",
       "      <td>self_employed</td>\n",
       "      <td>187</td>\n",
       "      <td>2</td>\n",
       "      <td>755</td>\n",
       "      <td>1458.71</td>\n",
       "      <td>1458.71</td>\n",
       "      <td>...</td>\n",
       "      <td>0.20</td>\n",
       "      <td>0.20</td>\n",
       "      <td>0.20</td>\n",
       "      <td>1458.71</td>\n",
       "      <td>1458.71</td>\n",
       "      <td>0.0</td>\n",
       "      <td>141.0</td>\n",
       "      <td>21</td>\n",
       "      <td>5.0</td>\n",
       "      <td>1.0</td>\n",
       "    </tr>\n",
       "    <tr>\n",
       "      <th>1</th>\n",
       "      <td>2648</td>\n",
       "      <td>35</td>\n",
       "      <td>Male</td>\n",
       "      <td>0</td>\n",
       "      <td>self_employed</td>\n",
       "      <td>100000</td>\n",
       "      <td>2</td>\n",
       "      <td>3214</td>\n",
       "      <td>5390.37</td>\n",
       "      <td>8704.66</td>\n",
       "      <td>...</td>\n",
       "      <td>0.56</td>\n",
       "      <td>5486.27</td>\n",
       "      <td>100.56</td>\n",
       "      <td>6496.78</td>\n",
       "      <td>8787.61</td>\n",
       "      <td>0.0</td>\n",
       "      <td>305.0</td>\n",
       "      <td>44</td>\n",
       "      <td>11.0</td>\n",
       "      <td>4.0</td>\n",
       "    </tr>\n",
       "    <tr>\n",
       "      <th>2</th>\n",
       "      <td>2494</td>\n",
       "      <td>31</td>\n",
       "      <td>Male</td>\n",
       "      <td>0</td>\n",
       "      <td>salaried</td>\n",
       "      <td>146</td>\n",
       "      <td>2</td>\n",
       "      <td>41</td>\n",
       "      <td>3913.16</td>\n",
       "      <td>5815.29</td>\n",
       "      <td>...</td>\n",
       "      <td>0.61</td>\n",
       "      <td>6046.73</td>\n",
       "      <td>259.23</td>\n",
       "      <td>5006.28</td>\n",
       "      <td>5070.14</td>\n",
       "      <td>0.0</td>\n",
       "      <td>NaN</td>\n",
       "      <td>&lt;NA&gt;</td>\n",
       "      <td>NaN</td>\n",
       "      <td>NaN</td>\n",
       "    </tr>\n",
       "    <tr>\n",
       "      <th>3</th>\n",
       "      <td>2629</td>\n",
       "      <td>90</td>\n",
       "      <td>Male</td>\n",
       "      <td>1</td>\n",
       "      <td>self_employed</td>\n",
       "      <td>1020</td>\n",
       "      <td>2</td>\n",
       "      <td>582</td>\n",
       "      <td>2291.91</td>\n",
       "      <td>2291.91</td>\n",
       "      <td>...</td>\n",
       "      <td>0.47</td>\n",
       "      <td>0.47</td>\n",
       "      <td>2143.33</td>\n",
       "      <td>2291.91</td>\n",
       "      <td>1669.79</td>\n",
       "      <td>1.0</td>\n",
       "      <td>218.0</td>\n",
       "      <td>32</td>\n",
       "      <td>8.0</td>\n",
       "      <td>1.0</td>\n",
       "    </tr>\n",
       "    <tr>\n",
       "      <th>4</th>\n",
       "      <td>1879</td>\n",
       "      <td>42</td>\n",
       "      <td>Male</td>\n",
       "      <td>2</td>\n",
       "      <td>self_employed</td>\n",
       "      <td>1494</td>\n",
       "      <td>3</td>\n",
       "      <td>388</td>\n",
       "      <td>927.72</td>\n",
       "      <td>1401.72</td>\n",
       "      <td>...</td>\n",
       "      <td>714.61</td>\n",
       "      <td>588.62</td>\n",
       "      <td>1538.06</td>\n",
       "      <td>1157.15</td>\n",
       "      <td>1677.16</td>\n",
       "      <td>1.0</td>\n",
       "      <td>307.0</td>\n",
       "      <td>44</td>\n",
       "      <td>11.0</td>\n",
       "      <td>6.0</td>\n",
       "    </tr>\n",
       "  </tbody>\n",
       "</table>\n",
       "<p>5 rows × 23 columns</p>\n",
       "</div>"
      ],
      "text/plain": [
       "   vintage  age gender  dependents     occupation    city  \\\n",
       "0     2401   66   Male           0  self_employed     187   \n",
       "1     2648   35   Male           0  self_employed  100000   \n",
       "2     2494   31   Male           0       salaried     146   \n",
       "3     2629   90   Male           1  self_employed    1020   \n",
       "4     1879   42   Male           2  self_employed    1494   \n",
       "\n",
       "  customer_nw_category branch_code  current_balance  \\\n",
       "0                    2         755          1458.71   \n",
       "1                    2        3214          5390.37   \n",
       "2                    2          41          3913.16   \n",
       "3                    2         582          2291.91   \n",
       "4                    3         388           927.72   \n",
       "\n",
       "   previous_month_end_balance  ...  previous_month_credit  \\\n",
       "0                     1458.71  ...                   0.20   \n",
       "1                     8704.66  ...                   0.56   \n",
       "2                     5815.29  ...                   0.61   \n",
       "3                     2291.91  ...                   0.47   \n",
       "4                     1401.72  ...                 714.61   \n",
       "\n",
       "   current_month_debit  previous_month_debit  current_month_balance  \\\n",
       "0                 0.20                  0.20                1458.71   \n",
       "1              5486.27                100.56                6496.78   \n",
       "2              6046.73                259.23                5006.28   \n",
       "3                 0.47               2143.33                2291.91   \n",
       "4               588.62               1538.06                1157.15   \n",
       "\n",
       "   previous_month_balance  churn  doy_ls_tran  woy_ls_tran moy_ls_tran  \\\n",
       "0                 1458.71    0.0        141.0           21         5.0   \n",
       "1                 8787.61    0.0        305.0           44        11.0   \n",
       "2                 5070.14    0.0          NaN         <NA>         NaN   \n",
       "3                 1669.79    1.0        218.0           32         8.0   \n",
       "4                 1677.16    1.0        307.0           44        11.0   \n",
       "\n",
       "   dow_ls_tran  \n",
       "0          1.0  \n",
       "1          4.0  \n",
       "2          NaN  \n",
       "3          1.0  \n",
       "4          6.0  \n",
       "\n",
       "[5 rows x 23 columns]"
      ]
     },
     "execution_count": 192,
     "metadata": {},
     "output_type": "execute_result"
    }
   ],
   "source": [
    "df = pd.read_pickle(\"churn_prediction_v2.pkl\")\n",
    "df.head()"
   ]
  },
  {
   "cell_type": "code",
   "execution_count": 194,
   "metadata": {},
   "outputs": [],
   "source": [
    "df.dropna(axis=1, inplace=True)  # drop those col which have missing values"
   ]
  },
  {
   "cell_type": "code",
   "execution_count": 196,
   "metadata": {},
   "outputs": [
    {
     "data": {
      "text/plain": [
       "vintage                           0\n",
       "age                               0\n",
       "gender                            0\n",
       "dependents                        0\n",
       "occupation                        0\n",
       "city                              0\n",
       "customer_nw_category              0\n",
       "branch_code                       0\n",
       "current_balance                   0\n",
       "previous_month_end_balance        0\n",
       "average_monthly_balance_prevQ     0\n",
       "average_monthly_balance_prevQ2    0\n",
       "current_month_credit              0\n",
       "previous_month_credit             0\n",
       "current_month_debit               0\n",
       "previous_month_debit              0\n",
       "current_month_balance             0\n",
       "previous_month_balance            0\n",
       "churn                             0\n",
       "dtype: int64"
      ]
     },
     "execution_count": 196,
     "metadata": {},
     "output_type": "execute_result"
    }
   ],
   "source": [
    "df.isna().sum()"
   ]
  },
  {
   "cell_type": "code",
   "execution_count": 195,
   "metadata": {},
   "outputs": [],
   "source": [
    "df.to_pickle(\"churn_prediction_v3.pkl\")"
   ]
  },
  {
   "cell_type": "code",
   "execution_count": null,
   "metadata": {},
   "outputs": [],
   "source": []
  },
  {
   "cell_type": "code",
   "execution_count": null,
   "metadata": {},
   "outputs": [],
   "source": []
  },
  {
   "cell_type": "code",
   "execution_count": null,
   "metadata": {},
   "outputs": [],
   "source": []
  },
  {
   "cell_type": "code",
   "execution_count": 1,
   "metadata": {},
   "outputs": [
    {
     "data": {
      "text/html": [
       "<div>\n",
       "<style scoped>\n",
       "    .dataframe tbody tr th:only-of-type {\n",
       "        vertical-align: middle;\n",
       "    }\n",
       "\n",
       "    .dataframe tbody tr th {\n",
       "        vertical-align: top;\n",
       "    }\n",
       "\n",
       "    .dataframe thead th {\n",
       "        text-align: right;\n",
       "    }\n",
       "</style>\n",
       "<table border=\"1\" class=\"dataframe\">\n",
       "  <thead>\n",
       "    <tr style=\"text-align: right;\">\n",
       "      <th></th>\n",
       "      <th>vintage</th>\n",
       "      <th>age</th>\n",
       "      <th>gender</th>\n",
       "      <th>dependents</th>\n",
       "      <th>occupation</th>\n",
       "      <th>city</th>\n",
       "      <th>customer_nw_category</th>\n",
       "      <th>branch_code</th>\n",
       "      <th>current_balance</th>\n",
       "      <th>previous_month_end_balance</th>\n",
       "      <th>average_monthly_balance_prevQ</th>\n",
       "      <th>average_monthly_balance_prevQ2</th>\n",
       "      <th>current_month_credit</th>\n",
       "      <th>previous_month_credit</th>\n",
       "      <th>current_month_debit</th>\n",
       "      <th>previous_month_debit</th>\n",
       "      <th>current_month_balance</th>\n",
       "      <th>previous_month_balance</th>\n",
       "      <th>churn</th>\n",
       "    </tr>\n",
       "  </thead>\n",
       "  <tbody>\n",
       "    <tr>\n",
       "      <th>0</th>\n",
       "      <td>2401</td>\n",
       "      <td>66</td>\n",
       "      <td>Male</td>\n",
       "      <td>0</td>\n",
       "      <td>self_employed</td>\n",
       "      <td>187</td>\n",
       "      <td>2</td>\n",
       "      <td>755</td>\n",
       "      <td>1458.71</td>\n",
       "      <td>1458.71</td>\n",
       "      <td>1458.71</td>\n",
       "      <td>1449.07</td>\n",
       "      <td>0.20</td>\n",
       "      <td>0.20</td>\n",
       "      <td>0.20</td>\n",
       "      <td>0.20</td>\n",
       "      <td>1458.71</td>\n",
       "      <td>1458.71</td>\n",
       "      <td>0.0</td>\n",
       "    </tr>\n",
       "    <tr>\n",
       "      <th>1</th>\n",
       "      <td>2648</td>\n",
       "      <td>35</td>\n",
       "      <td>Male</td>\n",
       "      <td>0</td>\n",
       "      <td>self_employed</td>\n",
       "      <td>100000</td>\n",
       "      <td>2</td>\n",
       "      <td>3214</td>\n",
       "      <td>5390.37</td>\n",
       "      <td>8704.66</td>\n",
       "      <td>7799.26</td>\n",
       "      <td>12419.41</td>\n",
       "      <td>0.56</td>\n",
       "      <td>0.56</td>\n",
       "      <td>5486.27</td>\n",
       "      <td>100.56</td>\n",
       "      <td>6496.78</td>\n",
       "      <td>8787.61</td>\n",
       "      <td>0.0</td>\n",
       "    </tr>\n",
       "    <tr>\n",
       "      <th>2</th>\n",
       "      <td>2494</td>\n",
       "      <td>31</td>\n",
       "      <td>Male</td>\n",
       "      <td>0</td>\n",
       "      <td>salaried</td>\n",
       "      <td>146</td>\n",
       "      <td>2</td>\n",
       "      <td>41</td>\n",
       "      <td>3913.16</td>\n",
       "      <td>5815.29</td>\n",
       "      <td>4910.17</td>\n",
       "      <td>2815.94</td>\n",
       "      <td>0.61</td>\n",
       "      <td>0.61</td>\n",
       "      <td>6046.73</td>\n",
       "      <td>259.23</td>\n",
       "      <td>5006.28</td>\n",
       "      <td>5070.14</td>\n",
       "      <td>0.0</td>\n",
       "    </tr>\n",
       "    <tr>\n",
       "      <th>3</th>\n",
       "      <td>2629</td>\n",
       "      <td>90</td>\n",
       "      <td>Male</td>\n",
       "      <td>1</td>\n",
       "      <td>self_employed</td>\n",
       "      <td>1020</td>\n",
       "      <td>2</td>\n",
       "      <td>582</td>\n",
       "      <td>2291.91</td>\n",
       "      <td>2291.91</td>\n",
       "      <td>2084.54</td>\n",
       "      <td>1006.54</td>\n",
       "      <td>0.47</td>\n",
       "      <td>0.47</td>\n",
       "      <td>0.47</td>\n",
       "      <td>2143.33</td>\n",
       "      <td>2291.91</td>\n",
       "      <td>1669.79</td>\n",
       "      <td>1.0</td>\n",
       "    </tr>\n",
       "    <tr>\n",
       "      <th>4</th>\n",
       "      <td>1879</td>\n",
       "      <td>42</td>\n",
       "      <td>Male</td>\n",
       "      <td>2</td>\n",
       "      <td>self_employed</td>\n",
       "      <td>1494</td>\n",
       "      <td>3</td>\n",
       "      <td>388</td>\n",
       "      <td>927.72</td>\n",
       "      <td>1401.72</td>\n",
       "      <td>1643.31</td>\n",
       "      <td>1871.12</td>\n",
       "      <td>0.33</td>\n",
       "      <td>714.61</td>\n",
       "      <td>588.62</td>\n",
       "      <td>1538.06</td>\n",
       "      <td>1157.15</td>\n",
       "      <td>1677.16</td>\n",
       "      <td>1.0</td>\n",
       "    </tr>\n",
       "  </tbody>\n",
       "</table>\n",
       "</div>"
      ],
      "text/plain": [
       "   vintage  age gender  dependents     occupation    city  \\\n",
       "0     2401   66   Male           0  self_employed     187   \n",
       "1     2648   35   Male           0  self_employed  100000   \n",
       "2     2494   31   Male           0       salaried     146   \n",
       "3     2629   90   Male           1  self_employed    1020   \n",
       "4     1879   42   Male           2  self_employed    1494   \n",
       "\n",
       "  customer_nw_category branch_code  current_balance  \\\n",
       "0                    2         755          1458.71   \n",
       "1                    2        3214          5390.37   \n",
       "2                    2          41          3913.16   \n",
       "3                    2         582          2291.91   \n",
       "4                    3         388           927.72   \n",
       "\n",
       "   previous_month_end_balance  average_monthly_balance_prevQ  \\\n",
       "0                     1458.71                        1458.71   \n",
       "1                     8704.66                        7799.26   \n",
       "2                     5815.29                        4910.17   \n",
       "3                     2291.91                        2084.54   \n",
       "4                     1401.72                        1643.31   \n",
       "\n",
       "   average_monthly_balance_prevQ2  current_month_credit  \\\n",
       "0                         1449.07                  0.20   \n",
       "1                        12419.41                  0.56   \n",
       "2                         2815.94                  0.61   \n",
       "3                         1006.54                  0.47   \n",
       "4                         1871.12                  0.33   \n",
       "\n",
       "   previous_month_credit  current_month_debit  previous_month_debit  \\\n",
       "0                   0.20                 0.20                  0.20   \n",
       "1                   0.56              5486.27                100.56   \n",
       "2                   0.61              6046.73                259.23   \n",
       "3                   0.47                 0.47               2143.33   \n",
       "4                 714.61               588.62               1538.06   \n",
       "\n",
       "   current_month_balance  previous_month_balance churn  \n",
       "0                1458.71                 1458.71   0.0  \n",
       "1                6496.78                 8787.61   0.0  \n",
       "2                5006.28                 5070.14   0.0  \n",
       "3                2291.91                 1669.79   1.0  \n",
       "4                1157.15                 1677.16   1.0  "
      ]
     },
     "execution_count": 1,
     "metadata": {},
     "output_type": "execute_result"
    }
   ],
   "source": [
    "import pandas as pd\n",
    "df = pd.read_pickle(\"churn_prediction_v3.pkl\")\n",
    "df.head()"
   ]
  },
  {
   "cell_type": "markdown",
   "metadata": {},
   "source": [
    "# Univariate Plots\n",
    "For continous var: hist, kde, box-plots\n",
    "\n",
    "For categorical var: bar charts, pie charts"
   ]
  },
  {
   "cell_type": "code",
   "execution_count": 2,
   "metadata": {},
   "outputs": [
    {
     "data": {
      "text/plain": [
       "<Axes: >"
      ]
     },
     "execution_count": 2,
     "metadata": {},
     "output_type": "execute_result"
    },
    {
     "data": {
      "image/png": "[encoded data removed]",
      "text/plain": [
       "<Figure size 1000x600 with 1 Axes>"
      ]
     },
     "metadata": {},
     "output_type": "display_data"
    }
   ],
   "source": [
    "df['age'].hist(bins=20, figsize=(10,6))"
   ]
  },
  {
   "cell_type": "code",
   "execution_count": 3,
   "metadata": {},
   "outputs": [],
   "source": [
    "import matplotlib.pyplot as plt"
   ]
  },
  {
   "cell_type": "code",
   "execution_count": 4,
   "metadata": {},
   "outputs": [
    {
     "data": {
      "image/png": "[encoded data removed]",
      "text/plain": [
       "<Figure size 640x480 with 2 Axes>"
      ]
     },
     "metadata": {},
     "output_type": "display_data"
    }
   ],
   "source": [
    "df[['age', 'dependents']].hist(bins=20)\n",
    "plt.show()"
   ]
  },
  {
   "cell_type": "code",
   "execution_count": 5,
   "metadata": {},
   "outputs": [],
   "source": [
    "# https://matplotlib.org/stable/gallery/style_sheets/style_sheets_reference.html"
   ]
  },
  {
   "cell_type": "code",
   "execution_count": 6,
   "metadata": {},
   "outputs": [
    {
     "name": "stderr",
     "output_type": "stream",
     "text": [
      "C:\\Users\\Prashant\\AppData\\Local\\Temp\\ipykernel_24876\\1440878617.py:1: MatplotlibDeprecationWarning: The seaborn styles shipped by Matplotlib are deprecated since 3.6, as they no longer correspond to the styles shipped by seaborn. However, they will remain available as 'seaborn-v0_8-<style>'. Alternatively, directly use the seaborn API instead.\n",
      "  plt.style.use('seaborn')\n"
     ]
    },
    {
     "data": {
      "image/png": "[encoded data removed]",
      "text/plain": [
       "<Figure size 800x550 with 2 Axes>"
      ]
     },
     "metadata": {},
     "output_type": "display_data"
    }
   ],
   "source": [
    "plt.style.use('seaborn')\n",
    "df[['age', 'dependents']].hist(bins=20)\n",
    "plt.show()"
   ]
  },
  {
   "cell_type": "code",
   "execution_count": 7,
   "metadata": {},
   "outputs": [
    {
     "data": {
      "image/png": "[encoded data removed]",
      "text/plain": [
       "<Figure size 800x550 with 2 Axes>"
      ]
     },
     "metadata": {},
     "output_type": "display_data"
    }
   ],
   "source": [
    "plt.style.use('ggplot')\n",
    "df[['age', 'dependents']].hist(bins=20)\n",
    "plt.show()"
   ]
  },
  {
   "cell_type": "code",
   "execution_count": 8,
   "metadata": {},
   "outputs": [
    {
     "data": {
      "image/png": "[encoded data removed]",
      "text/plain": [
       "<Figure size 800x550 with 2 Axes>"
      ]
     },
     "metadata": {},
     "output_type": "display_data"
    }
   ],
   "source": [
    "plt.style.use('dark_background')\n",
    "df[['age', 'dependents']].hist(bins=20)\n",
    "plt.show()"
   ]
  },
  {
   "cell_type": "code",
   "execution_count": 9,
   "metadata": {},
   "outputs": [
    {
     "data": {
      "image/png": "[encoded data removed]",
      "text/plain": [
       "<Figure size 800x550 with 2 Axes>"
      ]
     },
     "metadata": {},
     "output_type": "display_data"
    }
   ],
   "source": [
    "plt.style.use('seaborn-v0_8')\n",
    "df[['age', 'dependents']].hist(bins=20)\n",
    "plt.show()"
   ]
  },
  {
   "cell_type": "code",
   "execution_count": 10,
   "metadata": {},
   "outputs": [
    {
     "data": {
      "text/plain": [
       "<Axes: ylabel='Frequency'>"
      ]
     },
     "execution_count": 10,
     "metadata": {},
     "output_type": "execute_result"
    },
    {
     "data": {
      "image/png": "[encoded data removed]",
      "text/plain": [
       "<Figure size 800x550 with 1 Axes>"
      ]
     },
     "metadata": {},
     "output_type": "display_data"
    }
   ],
   "source": [
    "df['age'].plot.hist()"
   ]
  },
  {
   "cell_type": "code",
   "execution_count": 12,
   "metadata": {},
   "outputs": [
    {
     "data": {
      "text/plain": [
       "(-5.0, 100.0)"
      ]
     },
     "execution_count": 12,
     "metadata": {},
     "output_type": "execute_result"
    },
    {
     "data": {
      "image/png": "[encoded data removed]",
      "text/plain": [
       "<Figure size 800x550 with 1 Axes>"
      ]
     },
     "metadata": {},
     "output_type": "display_data"
    }
   ],
   "source": [
    "df['age'].plot.kde()  # Kernel Density Estimation plot from Pandas >>> Gives the shape of the histogram.\n",
    "plt.xlim([-5, 100])"
   ]
  },
  {
   "cell_type": "code",
   "execution_count": 13,
   "metadata": {},
   "outputs": [
    {
     "data": {
      "text/plain": [
       "(-1.0, 80.0)"
      ]
     },
     "execution_count": 13,
     "metadata": {},
     "output_type": "execute_result"
    },
    {
     "data": {
      "image/png": "[encoded data removed]",
      "text/plain": [
       "<Figure size 800x550 with 1 Axes>"
      ]
     },
     "metadata": {},
     "output_type": "display_data"
    }
   ],
   "source": [
    "df['dependents'].plot.kde()\n",
    "plt.xlim([-1, 80])"
   ]
  },
  {
   "cell_type": "code",
   "execution_count": 18,
   "metadata": {},
   "outputs": [
    {
     "data": {
      "text/plain": [
       "'0.11.2'"
      ]
     },
     "execution_count": 18,
     "metadata": {},
     "output_type": "execute_result"
    }
   ],
   "source": [
    "sns.__version__"
   ]
  },
  {
   "cell_type": "code",
   "execution_count": 16,
   "metadata": {},
   "outputs": [
    {
     "data": {
      "text/plain": [
       "<Axes: xlabel='age', ylabel='Count'>"
      ]
     },
     "execution_count": 16,
     "metadata": {},
     "output_type": "execute_result"
    },
    {
     "data": {
      "image/png": "[encoded data removed]",
      "text/plain": [
       "<Figure size 800x550 with 1 Axes>"
      ]
     },
     "metadata": {},
     "output_type": "display_data"
    }
   ],
   "source": [
    "import seaborn as sns\n",
    "sns.histplot(df['age'], kde=True, color='darkred', bins=30)"
   ]
  },
  {
   "cell_type": "code",
   "execution_count": null,
   "metadata": {},
   "outputs": [],
   "source": []
  },
  {
   "cell_type": "code",
   "execution_count": 1,
   "metadata": {},
   "outputs": [
    {
     "ename": "NameError",
     "evalue": "name 'nn' is not defined",
     "output_type": "error",
     "traceback": [
      "\u001b[1;31m---------------------------------------------------------------------------\u001b[0m",
      "\u001b[1;31mNameError\u001b[0m                                 Traceback (most recent call last)",
      "Cell \u001b[1;32mIn[1], line 1\u001b[0m\n\u001b[1;32m----> 1\u001b[0m \u001b[43mnn\u001b[49m\n",
      "\u001b[1;31mNameError\u001b[0m: name 'nn' is not defined"
     ]
    }
   ],
   "source": [
    "nn"
   ]
  },
  {
   "cell_type": "code",
   "execution_count": null,
   "metadata": {},
   "outputs": [],
   "source": []
  }
 ],
 "metadata": {
  "colab": {
   "collapsed_sections": [],
   "name": "3. Variable Identification.ipynb",
   "version": ""
  },
  "kernelspec": {
   "display_name": "Python 3 (ipykernel)",
   "language": "python",
   "name": "python3"
  },
  "language_info": {
   "codemirror_mode": {
    "name": "ipython",
    "version": 3
   },
   "file_extension": ".py",
   "mimetype": "text/x-python",
   "name": "python",
   "nbconvert_exporter": "python",
   "pygments_lexer": "ipython3",
   "version": "3.10.9"
  }
 },
 "nbformat": 4,
 "nbformat_minor": 1
}
